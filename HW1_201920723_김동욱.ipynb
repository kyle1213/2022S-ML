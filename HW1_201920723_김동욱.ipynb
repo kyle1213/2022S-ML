{
  "cells": [
    {
      "cell_type": "markdown",
      "metadata": {
        "id": "view-in-github",
        "colab_type": "text"
      },
      "source": [
        "<a href=\"https://colab.research.google.com/github/kyle1213/2022S-ML/blob/main/HW1_201920723_%EA%B9%80%EB%8F%99%EC%9A%B1.ipynb\" target=\"_parent\"><img src=\"https://colab.research.google.com/assets/colab-badge.svg\" alt=\"Open In Colab\"/></a>"
      ]
    },
    {
      "cell_type": "markdown",
      "metadata": {
        "id": "HiuqPKmhFjJZ"
      },
      "source": [
        "# HW1 :: Data preprocessing & KNN"
      ]
    },
    {
      "cell_type": "markdown",
      "metadata": {
        "id": "iBQC33o5C7ih"
      },
      "source": [
        "데이터를 불러오는 방법에는 크게 두 가지가 있습니다.\n",
        "1. 제공된 csv 파일을 코랩 노트북 파일이 있는 드라이브 폴더 경로에 업로드하기\n",
        "  * 본 노트북 파일과 csv 파일을 같은 드라이브 폴더에 넣기 \n",
        "  * 아래의 **`코랩과 구글 드라이브 연동하기`** 코드를 사용하여 본인 계정의 구글 드라이브와 코랩 환경을 연동하여 사용\n",
        "  * 연동하는 코드를 사용하지 않고, **`왼쪽 툴바>다섯 번째 폴더 모양 클릭>파일 글씨 \b아래에 세 번째 아이콘(드라이브 마운트) 클릭`** 으로도 구글 드라이브와 해당 코랩 세션을 연동할 수 있음\n",
        "2. 제공된 csv 파일을 직접 코랩 노트북에 업로드하기\n",
        "  * 코랩 화면에서 **`왼쪽 툴바>다섯 번째 폴더 모양 클릭>파일 글씨 바로 밑에 있는 아이콘(세션 저장소에 업로드) 클릭>로컬에서 파일 업로드`**\n",
        "\n",
        "어느 방법을 사용하셔도 상관 없습니다. 하지만 리눅스 계열 명령어(pwd, ls, cd) 등을 이용해서 경로를 잘 확인해주세요. 경로를 맞추지 않으면 csv 파일을 불러올 때 에러가 발생합니다. 아래 코드는 코랩과 구글 드라이브를 코드로 연결하는 방법입니다."
      ]
    },
    {
      "cell_type": "markdown",
      "metadata": {
        "id": "E_j4s928KEBc"
      },
      "source": [
        "## 코랩과 구글 드라이브 연동하기"
      ]
    },
    {
      "cell_type": "code",
      "execution_count": 1,
      "metadata": {
        "colab": {
          "base_uri": "https://localhost:8080/"
        },
        "id": "uxp3h-u3KDjh",
        "outputId": "48cf95fa-07ee-4841-cd1d-96de0aa78a51"
      },
      "outputs": [
        {
          "output_type": "stream",
          "name": "stdout",
          "text": [
            "Drive already mounted at /content/drive; to attempt to forcibly remount, call drive.mount(\"/content/drive\", force_remount=True).\n"
          ]
        }
      ],
      "source": [
        "from google.colab import drive\n",
        "drive.mount('/content/drive')"
      ]
    },
    {
      "cell_type": "code",
      "execution_count": 2,
      "metadata": {
        "colab": {
          "base_uri": "https://localhost:8080/"
        },
        "id": "qARwVCK0KbnX",
        "outputId": "8afd10a0-e788-4c52-eef8-af1a1d8c1a13"
      },
      "outputs": [
        {
          "output_type": "stream",
          "name": "stdout",
          "text": [
            "/content\n"
          ]
        }
      ],
      "source": [
        "# pwd 명령어로 현재 위치 확인\n",
        "!pwd"
      ]
    },
    {
      "cell_type": "code",
      "execution_count": 3,
      "metadata": {
        "colab": {
          "base_uri": "https://localhost:8080/"
        },
        "id": "JF-0b-trLWIa",
        "outputId": "a6b8956f-1c5e-47de-e987-4c72ec68d1e1"
      },
      "outputs": [
        {
          "output_type": "stream",
          "name": "stdout",
          "text": [
            "\u001b[0m\u001b[01;34mdrive\u001b[0m/  \u001b[01;34msample_data\u001b[0m/\n"
          ]
        }
      ],
      "source": [
        "ls"
      ]
    },
    {
      "cell_type": "code",
      "execution_count": 4,
      "metadata": {
        "colab": {
          "base_uri": "https://localhost:8080/"
        },
        "id": "K8ugjVg0LYX-",
        "outputId": "be343254-b9a5-4ea8-bb05-a5e212f294eb"
      },
      "outputs": [
        {
          "output_type": "stream",
          "name": "stdout",
          "text": [
            "/content/drive\n"
          ]
        }
      ],
      "source": [
        "cd drive"
      ]
    },
    {
      "cell_type": "markdown",
      "metadata": {
        "id": "SHHh-sdrI47e"
      },
      "source": [
        "## 데이터 불러오기 & 살펴보기"
      ]
    },
    {
      "cell_type": "code",
      "execution_count": 5,
      "metadata": {
        "id": "BMP_af_vIsjs"
      },
      "outputs": [],
      "source": [
        "# 이번 과제는 numpy, pandas와 같은 데이터를 불러내고 확인, 처리, \n",
        "# 수정 등을 쉽게 할 수 있는 library를 사용합니다.\n",
        "\n",
        "# 모듈 이름 뒤에 as를 쓰고 별칭을 적으면 해당 별칭으로 모듈을 호출할 수 있습니다.\n",
        "# 모듈명: numpy, 별칭: np => numpy를 쓰는 대신 np를 써서 numpy 호출\n",
        "# 모듈명: pandas, 별칭: pd => pandas를 쓰는 대신 pd를 써서 pandas 호출\n",
        "import numpy as np\n",
        "import pandas as pd"
      ]
    },
    {
      "cell_type": "code",
      "execution_count": 6,
      "metadata": {
        "id": "ohwnlYNQB6kK"
      },
      "outputs": [],
      "source": [
        "# './'는 이 노트북 파일의 현재 위치를 뜻 합니다.\n",
        "path = './MyDrive/Colab Notebooks/heart.csv'\n",
        "\n",
        "# pandas의 read_csv 함수를 사용하여 csv파일을 DataFrame으로 불러옵니다.\n",
        "data = pd.read_csv(path)"
      ]
    },
    {
      "cell_type": "code",
      "execution_count": 7,
      "metadata": {
        "colab": {
          "base_uri": "https://localhost:8080/"
        },
        "id": "i1oNmJPRLpHk",
        "outputId": "f7527a4f-f824-433e-d22b-da04f3a43191"
      },
      "outputs": [
        {
          "output_type": "execute_result",
          "data": {
            "text/plain": [
              "(1190, 12)"
            ]
          },
          "metadata": {},
          "execution_count": 7
        }
      ],
      "source": [
        "# DataFrame 혹은 Series와 같은 자료구조에 shape함수를 통해 데이터의 크기와 \n",
        "# 변수의 갯수를 대략적으로 알 수 있습니다.\n",
        "\n",
        "data.shape # (1190, 12) => 1190 개의 row(행), 12 개의 column(열)을 가진 데이터"
      ]
    },
    {
      "cell_type": "code",
      "execution_count": 8,
      "metadata": {
        "colab": {
          "base_uri": "https://localhost:8080/",
          "height": 206
        },
        "id": "3VW__vN3L9KH",
        "outputId": "3d9e0bb8-f2f4-4a65-9475-bdde5310fbf8"
      },
      "outputs": [
        {
          "output_type": "execute_result",
          "data": {
            "text/plain": [
              "   Age Sex ChestPainType  RestingBP  Cholesterol  FastingBS RestingECG  MaxHR  \\\n",
              "0   51   M           ASY        128            0          0     Normal    107   \n",
              "1   48   M           ASY        140          208          0     Normal    159   \n",
              "2   64   F           ASY        142          276          0     Normal    140   \n",
              "3   40   M           ATA        130          275          0     Normal    150   \n",
              "4   63   M           ASY        130          330          1        LVH    132   \n",
              "\n",
              "  ExerciseAngina  Oldpeak ST_Slope  HeartDisease  \n",
              "0              N      0.0       Up             0  \n",
              "1              Y      1.5       Up             1  \n",
              "2              Y      1.0     Flat             1  \n",
              "3              N      0.0       Up             0  \n",
              "4              Y      1.8       Up             1  "
            ],
            "text/html": [
              "\n",
              "  <div id=\"df-4555fd34-0784-4ffc-bdad-eec95d802f6f\">\n",
              "    <div class=\"colab-df-container\">\n",
              "      <div>\n",
              "<style scoped>\n",
              "    .dataframe tbody tr th:only-of-type {\n",
              "        vertical-align: middle;\n",
              "    }\n",
              "\n",
              "    .dataframe tbody tr th {\n",
              "        vertical-align: top;\n",
              "    }\n",
              "\n",
              "    .dataframe thead th {\n",
              "        text-align: right;\n",
              "    }\n",
              "</style>\n",
              "<table border=\"1\" class=\"dataframe\">\n",
              "  <thead>\n",
              "    <tr style=\"text-align: right;\">\n",
              "      <th></th>\n",
              "      <th>Age</th>\n",
              "      <th>Sex</th>\n",
              "      <th>ChestPainType</th>\n",
              "      <th>RestingBP</th>\n",
              "      <th>Cholesterol</th>\n",
              "      <th>FastingBS</th>\n",
              "      <th>RestingECG</th>\n",
              "      <th>MaxHR</th>\n",
              "      <th>ExerciseAngina</th>\n",
              "      <th>Oldpeak</th>\n",
              "      <th>ST_Slope</th>\n",
              "      <th>HeartDisease</th>\n",
              "    </tr>\n",
              "  </thead>\n",
              "  <tbody>\n",
              "    <tr>\n",
              "      <th>0</th>\n",
              "      <td>51</td>\n",
              "      <td>M</td>\n",
              "      <td>ASY</td>\n",
              "      <td>128</td>\n",
              "      <td>0</td>\n",
              "      <td>0</td>\n",
              "      <td>Normal</td>\n",
              "      <td>107</td>\n",
              "      <td>N</td>\n",
              "      <td>0.0</td>\n",
              "      <td>Up</td>\n",
              "      <td>0</td>\n",
              "    </tr>\n",
              "    <tr>\n",
              "      <th>1</th>\n",
              "      <td>48</td>\n",
              "      <td>M</td>\n",
              "      <td>ASY</td>\n",
              "      <td>140</td>\n",
              "      <td>208</td>\n",
              "      <td>0</td>\n",
              "      <td>Normal</td>\n",
              "      <td>159</td>\n",
              "      <td>Y</td>\n",
              "      <td>1.5</td>\n",
              "      <td>Up</td>\n",
              "      <td>1</td>\n",
              "    </tr>\n",
              "    <tr>\n",
              "      <th>2</th>\n",
              "      <td>64</td>\n",
              "      <td>F</td>\n",
              "      <td>ASY</td>\n",
              "      <td>142</td>\n",
              "      <td>276</td>\n",
              "      <td>0</td>\n",
              "      <td>Normal</td>\n",
              "      <td>140</td>\n",
              "      <td>Y</td>\n",
              "      <td>1.0</td>\n",
              "      <td>Flat</td>\n",
              "      <td>1</td>\n",
              "    </tr>\n",
              "    <tr>\n",
              "      <th>3</th>\n",
              "      <td>40</td>\n",
              "      <td>M</td>\n",
              "      <td>ATA</td>\n",
              "      <td>130</td>\n",
              "      <td>275</td>\n",
              "      <td>0</td>\n",
              "      <td>Normal</td>\n",
              "      <td>150</td>\n",
              "      <td>N</td>\n",
              "      <td>0.0</td>\n",
              "      <td>Up</td>\n",
              "      <td>0</td>\n",
              "    </tr>\n",
              "    <tr>\n",
              "      <th>4</th>\n",
              "      <td>63</td>\n",
              "      <td>M</td>\n",
              "      <td>ASY</td>\n",
              "      <td>130</td>\n",
              "      <td>330</td>\n",
              "      <td>1</td>\n",
              "      <td>LVH</td>\n",
              "      <td>132</td>\n",
              "      <td>Y</td>\n",
              "      <td>1.8</td>\n",
              "      <td>Up</td>\n",
              "      <td>1</td>\n",
              "    </tr>\n",
              "  </tbody>\n",
              "</table>\n",
              "</div>\n",
              "      <button class=\"colab-df-convert\" onclick=\"convertToInteractive('df-4555fd34-0784-4ffc-bdad-eec95d802f6f')\"\n",
              "              title=\"Convert this dataframe to an interactive table.\"\n",
              "              style=\"display:none;\">\n",
              "        \n",
              "  <svg xmlns=\"http://www.w3.org/2000/svg\" height=\"24px\"viewBox=\"0 0 24 24\"\n",
              "       width=\"24px\">\n",
              "    <path d=\"M0 0h24v24H0V0z\" fill=\"none\"/>\n",
              "    <path d=\"M18.56 5.44l.94 2.06.94-2.06 2.06-.94-2.06-.94-.94-2.06-.94 2.06-2.06.94zm-11 1L8.5 8.5l.94-2.06 2.06-.94-2.06-.94L8.5 2.5l-.94 2.06-2.06.94zm10 10l.94 2.06.94-2.06 2.06-.94-2.06-.94-.94-2.06-.94 2.06-2.06.94z\"/><path d=\"M17.41 7.96l-1.37-1.37c-.4-.4-.92-.59-1.43-.59-.52 0-1.04.2-1.43.59L10.3 9.45l-7.72 7.72c-.78.78-.78 2.05 0 2.83L4 21.41c.39.39.9.59 1.41.59.51 0 1.02-.2 1.41-.59l7.78-7.78 2.81-2.81c.8-.78.8-2.07 0-2.86zM5.41 20L4 18.59l7.72-7.72 1.47 1.35L5.41 20z\"/>\n",
              "  </svg>\n",
              "      </button>\n",
              "      \n",
              "  <style>\n",
              "    .colab-df-container {\n",
              "      display:flex;\n",
              "      flex-wrap:wrap;\n",
              "      gap: 12px;\n",
              "    }\n",
              "\n",
              "    .colab-df-convert {\n",
              "      background-color: #E8F0FE;\n",
              "      border: none;\n",
              "      border-radius: 50%;\n",
              "      cursor: pointer;\n",
              "      display: none;\n",
              "      fill: #1967D2;\n",
              "      height: 32px;\n",
              "      padding: 0 0 0 0;\n",
              "      width: 32px;\n",
              "    }\n",
              "\n",
              "    .colab-df-convert:hover {\n",
              "      background-color: #E2EBFA;\n",
              "      box-shadow: 0px 1px 2px rgba(60, 64, 67, 0.3), 0px 1px 3px 1px rgba(60, 64, 67, 0.15);\n",
              "      fill: #174EA6;\n",
              "    }\n",
              "\n",
              "    [theme=dark] .colab-df-convert {\n",
              "      background-color: #3B4455;\n",
              "      fill: #D2E3FC;\n",
              "    }\n",
              "\n",
              "    [theme=dark] .colab-df-convert:hover {\n",
              "      background-color: #434B5C;\n",
              "      box-shadow: 0px 1px 3px 1px rgba(0, 0, 0, 0.15);\n",
              "      filter: drop-shadow(0px 1px 2px rgba(0, 0, 0, 0.3));\n",
              "      fill: #FFFFFF;\n",
              "    }\n",
              "  </style>\n",
              "\n",
              "      <script>\n",
              "        const buttonEl =\n",
              "          document.querySelector('#df-4555fd34-0784-4ffc-bdad-eec95d802f6f button.colab-df-convert');\n",
              "        buttonEl.style.display =\n",
              "          google.colab.kernel.accessAllowed ? 'block' : 'none';\n",
              "\n",
              "        async function convertToInteractive(key) {\n",
              "          const element = document.querySelector('#df-4555fd34-0784-4ffc-bdad-eec95d802f6f');\n",
              "          const dataTable =\n",
              "            await google.colab.kernel.invokeFunction('convertToInteractive',\n",
              "                                                     [key], {});\n",
              "          if (!dataTable) return;\n",
              "\n",
              "          const docLinkHtml = 'Like what you see? Visit the ' +\n",
              "            '<a target=\"_blank\" href=https://colab.research.google.com/notebooks/data_table.ipynb>data table notebook</a>'\n",
              "            + ' to learn more about interactive tables.';\n",
              "          element.innerHTML = '';\n",
              "          dataTable['output_type'] = 'display_data';\n",
              "          await google.colab.output.renderOutput(dataTable, element);\n",
              "          const docLink = document.createElement('div');\n",
              "          docLink.innerHTML = docLinkHtml;\n",
              "          element.appendChild(docLink);\n",
              "        }\n",
              "      </script>\n",
              "    </div>\n",
              "  </div>\n",
              "  "
            ]
          },
          "metadata": {},
          "execution_count": 8
        }
      ],
      "source": [
        "# head() 함수를 이용하여 해당 데이터의 맨 위 5개의 원소를 볼 수 있습니다.\n",
        "# 더 많은 행을 보고 싶다면 ()안에 숫자를 넣어주시면 됩니다.\n",
        "\n",
        "data.head()"
      ]
    },
    {
      "cell_type": "code",
      "execution_count": 9,
      "metadata": {
        "colab": {
          "base_uri": "https://localhost:8080/",
          "height": 206
        },
        "id": "SuSLXcgKNUGB",
        "outputId": "8a61e2ae-223f-4364-f64c-401b15409636"
      },
      "outputs": [
        {
          "output_type": "execute_result",
          "data": {
            "text/plain": [
              "      Age Sex ChestPainType  RestingBP  Cholesterol  FastingBS RestingECG  \\\n",
              "1185   41   M           NAP        130          214          0        LVH   \n",
              "1186   63   M           ASY        150            0          0     Normal   \n",
              "1187   50   M           ATA        120          168          0     Normal   \n",
              "1188   49   M           ASY        130          341          0     Normal   \n",
              "1189   49   M           ATA        130          266          0     Normal   \n",
              "\n",
              "      MaxHR ExerciseAngina  Oldpeak ST_Slope  HeartDisease  \n",
              "1185    168              N      2.0     Flat             0  \n",
              "1186     86              Y      2.0     Flat             1  \n",
              "1187    160              N      0.0       Up             0  \n",
              "1188    120              Y      1.0     Flat             1  \n",
              "1189    171              N      0.6       Up             0  "
            ],
            "text/html": [
              "\n",
              "  <div id=\"df-399a6eb0-cd52-49ae-a1ad-5a5fe6272462\">\n",
              "    <div class=\"colab-df-container\">\n",
              "      <div>\n",
              "<style scoped>\n",
              "    .dataframe tbody tr th:only-of-type {\n",
              "        vertical-align: middle;\n",
              "    }\n",
              "\n",
              "    .dataframe tbody tr th {\n",
              "        vertical-align: top;\n",
              "    }\n",
              "\n",
              "    .dataframe thead th {\n",
              "        text-align: right;\n",
              "    }\n",
              "</style>\n",
              "<table border=\"1\" class=\"dataframe\">\n",
              "  <thead>\n",
              "    <tr style=\"text-align: right;\">\n",
              "      <th></th>\n",
              "      <th>Age</th>\n",
              "      <th>Sex</th>\n",
              "      <th>ChestPainType</th>\n",
              "      <th>RestingBP</th>\n",
              "      <th>Cholesterol</th>\n",
              "      <th>FastingBS</th>\n",
              "      <th>RestingECG</th>\n",
              "      <th>MaxHR</th>\n",
              "      <th>ExerciseAngina</th>\n",
              "      <th>Oldpeak</th>\n",
              "      <th>ST_Slope</th>\n",
              "      <th>HeartDisease</th>\n",
              "    </tr>\n",
              "  </thead>\n",
              "  <tbody>\n",
              "    <tr>\n",
              "      <th>1185</th>\n",
              "      <td>41</td>\n",
              "      <td>M</td>\n",
              "      <td>NAP</td>\n",
              "      <td>130</td>\n",
              "      <td>214</td>\n",
              "      <td>0</td>\n",
              "      <td>LVH</td>\n",
              "      <td>168</td>\n",
              "      <td>N</td>\n",
              "      <td>2.0</td>\n",
              "      <td>Flat</td>\n",
              "      <td>0</td>\n",
              "    </tr>\n",
              "    <tr>\n",
              "      <th>1186</th>\n",
              "      <td>63</td>\n",
              "      <td>M</td>\n",
              "      <td>ASY</td>\n",
              "      <td>150</td>\n",
              "      <td>0</td>\n",
              "      <td>0</td>\n",
              "      <td>Normal</td>\n",
              "      <td>86</td>\n",
              "      <td>Y</td>\n",
              "      <td>2.0</td>\n",
              "      <td>Flat</td>\n",
              "      <td>1</td>\n",
              "    </tr>\n",
              "    <tr>\n",
              "      <th>1187</th>\n",
              "      <td>50</td>\n",
              "      <td>M</td>\n",
              "      <td>ATA</td>\n",
              "      <td>120</td>\n",
              "      <td>168</td>\n",
              "      <td>0</td>\n",
              "      <td>Normal</td>\n",
              "      <td>160</td>\n",
              "      <td>N</td>\n",
              "      <td>0.0</td>\n",
              "      <td>Up</td>\n",
              "      <td>0</td>\n",
              "    </tr>\n",
              "    <tr>\n",
              "      <th>1188</th>\n",
              "      <td>49</td>\n",
              "      <td>M</td>\n",
              "      <td>ASY</td>\n",
              "      <td>130</td>\n",
              "      <td>341</td>\n",
              "      <td>0</td>\n",
              "      <td>Normal</td>\n",
              "      <td>120</td>\n",
              "      <td>Y</td>\n",
              "      <td>1.0</td>\n",
              "      <td>Flat</td>\n",
              "      <td>1</td>\n",
              "    </tr>\n",
              "    <tr>\n",
              "      <th>1189</th>\n",
              "      <td>49</td>\n",
              "      <td>M</td>\n",
              "      <td>ATA</td>\n",
              "      <td>130</td>\n",
              "      <td>266</td>\n",
              "      <td>0</td>\n",
              "      <td>Normal</td>\n",
              "      <td>171</td>\n",
              "      <td>N</td>\n",
              "      <td>0.6</td>\n",
              "      <td>Up</td>\n",
              "      <td>0</td>\n",
              "    </tr>\n",
              "  </tbody>\n",
              "</table>\n",
              "</div>\n",
              "      <button class=\"colab-df-convert\" onclick=\"convertToInteractive('df-399a6eb0-cd52-49ae-a1ad-5a5fe6272462')\"\n",
              "              title=\"Convert this dataframe to an interactive table.\"\n",
              "              style=\"display:none;\">\n",
              "        \n",
              "  <svg xmlns=\"http://www.w3.org/2000/svg\" height=\"24px\"viewBox=\"0 0 24 24\"\n",
              "       width=\"24px\">\n",
              "    <path d=\"M0 0h24v24H0V0z\" fill=\"none\"/>\n",
              "    <path d=\"M18.56 5.44l.94 2.06.94-2.06 2.06-.94-2.06-.94-.94-2.06-.94 2.06-2.06.94zm-11 1L8.5 8.5l.94-2.06 2.06-.94-2.06-.94L8.5 2.5l-.94 2.06-2.06.94zm10 10l.94 2.06.94-2.06 2.06-.94-2.06-.94-.94-2.06-.94 2.06-2.06.94z\"/><path d=\"M17.41 7.96l-1.37-1.37c-.4-.4-.92-.59-1.43-.59-.52 0-1.04.2-1.43.59L10.3 9.45l-7.72 7.72c-.78.78-.78 2.05 0 2.83L4 21.41c.39.39.9.59 1.41.59.51 0 1.02-.2 1.41-.59l7.78-7.78 2.81-2.81c.8-.78.8-2.07 0-2.86zM5.41 20L4 18.59l7.72-7.72 1.47 1.35L5.41 20z\"/>\n",
              "  </svg>\n",
              "      </button>\n",
              "      \n",
              "  <style>\n",
              "    .colab-df-container {\n",
              "      display:flex;\n",
              "      flex-wrap:wrap;\n",
              "      gap: 12px;\n",
              "    }\n",
              "\n",
              "    .colab-df-convert {\n",
              "      background-color: #E8F0FE;\n",
              "      border: none;\n",
              "      border-radius: 50%;\n",
              "      cursor: pointer;\n",
              "      display: none;\n",
              "      fill: #1967D2;\n",
              "      height: 32px;\n",
              "      padding: 0 0 0 0;\n",
              "      width: 32px;\n",
              "    }\n",
              "\n",
              "    .colab-df-convert:hover {\n",
              "      background-color: #E2EBFA;\n",
              "      box-shadow: 0px 1px 2px rgba(60, 64, 67, 0.3), 0px 1px 3px 1px rgba(60, 64, 67, 0.15);\n",
              "      fill: #174EA6;\n",
              "    }\n",
              "\n",
              "    [theme=dark] .colab-df-convert {\n",
              "      background-color: #3B4455;\n",
              "      fill: #D2E3FC;\n",
              "    }\n",
              "\n",
              "    [theme=dark] .colab-df-convert:hover {\n",
              "      background-color: #434B5C;\n",
              "      box-shadow: 0px 1px 3px 1px rgba(0, 0, 0, 0.15);\n",
              "      filter: drop-shadow(0px 1px 2px rgba(0, 0, 0, 0.3));\n",
              "      fill: #FFFFFF;\n",
              "    }\n",
              "  </style>\n",
              "\n",
              "      <script>\n",
              "        const buttonEl =\n",
              "          document.querySelector('#df-399a6eb0-cd52-49ae-a1ad-5a5fe6272462 button.colab-df-convert');\n",
              "        buttonEl.style.display =\n",
              "          google.colab.kernel.accessAllowed ? 'block' : 'none';\n",
              "\n",
              "        async function convertToInteractive(key) {\n",
              "          const element = document.querySelector('#df-399a6eb0-cd52-49ae-a1ad-5a5fe6272462');\n",
              "          const dataTable =\n",
              "            await google.colab.kernel.invokeFunction('convertToInteractive',\n",
              "                                                     [key], {});\n",
              "          if (!dataTable) return;\n",
              "\n",
              "          const docLinkHtml = 'Like what you see? Visit the ' +\n",
              "            '<a target=\"_blank\" href=https://colab.research.google.com/notebooks/data_table.ipynb>data table notebook</a>'\n",
              "            + ' to learn more about interactive tables.';\n",
              "          element.innerHTML = '';\n",
              "          dataTable['output_type'] = 'display_data';\n",
              "          await google.colab.output.renderOutput(dataTable, element);\n",
              "          const docLink = document.createElement('div');\n",
              "          docLink.innerHTML = docLinkHtml;\n",
              "          element.appendChild(docLink);\n",
              "        }\n",
              "      </script>\n",
              "    </div>\n",
              "  </div>\n",
              "  "
            ]
          },
          "metadata": {},
          "execution_count": 9
        }
      ],
      "source": [
        "# tail() 함수를 이용하여 해당 데이터의 맨 뒤 5개의 원소를 볼 수 있습니다.\n",
        "# 더 많은 행을 보고 싶다면 ()안에 숫자를 넣어주시면 됩니다.\n",
        "\n",
        "data.tail()"
      ]
    },
    {
      "cell_type": "code",
      "execution_count": 10,
      "metadata": {
        "colab": {
          "base_uri": "https://localhost:8080/"
        },
        "id": "Dp-qGCHYfbvc",
        "outputId": "f7749ec0-de0f-4f14-8e20-b4eb508f728a"
      },
      "outputs": [
        {
          "output_type": "execute_result",
          "data": {
            "text/plain": [
              "Index(['Age', 'Sex', 'ChestPainType', 'RestingBP', 'Cholesterol', 'FastingBS',\n",
              "       'RestingECG', 'MaxHR', 'ExerciseAngina', 'Oldpeak', 'ST_Slope',\n",
              "       'HeartDisease'],\n",
              "      dtype='object')"
            ]
          },
          "metadata": {},
          "execution_count": 10
        }
      ],
      "source": [
        "# DataFrame을 이루고 있는 column의 이름을 확인합니다.\n",
        "\n",
        "data.columns"
      ]
    },
    {
      "cell_type": "code",
      "execution_count": 11,
      "metadata": {
        "colab": {
          "base_uri": "https://localhost:8080/"
        },
        "id": "Uo0rA2-Af2Ox",
        "outputId": "5d55e108-645b-4bc2-c885-02cc62e8be89"
      },
      "outputs": [
        {
          "output_type": "execute_result",
          "data": {
            "text/plain": [
              "Age                 int64\n",
              "Sex                object\n",
              "ChestPainType      object\n",
              "RestingBP           int64\n",
              "Cholesterol         int64\n",
              "FastingBS           int64\n",
              "RestingECG         object\n",
              "MaxHR               int64\n",
              "ExerciseAngina     object\n",
              "Oldpeak           float64\n",
              "ST_Slope           object\n",
              "HeartDisease        int64\n",
              "dtype: object"
            ]
          },
          "metadata": {},
          "execution_count": 11
        }
      ],
      "source": [
        "# DataFrame을 이루고 있는 column 별 데이터의 타입을 확인합니다.\n",
        "\n",
        "data.dtypes"
      ]
    },
    {
      "cell_type": "code",
      "execution_count": 12,
      "metadata": {
        "colab": {
          "base_uri": "https://localhost:8080/",
          "height": 300
        },
        "id": "tqr0vPEUgIXe",
        "outputId": "db86fd3d-6b73-4ee5-cf75-366971488646"
      },
      "outputs": [
        {
          "output_type": "execute_result",
          "data": {
            "text/plain": [
              "               Age    RestingBP  Cholesterol    FastingBS        MaxHR  \\\n",
              "count  1190.000000  1190.000000  1190.000000  1190.000000  1190.000000   \n",
              "mean     53.425210   132.413445   199.714286     0.236975   137.127731   \n",
              "std       9.476581    18.270433   109.352682     0.425405    25.259171   \n",
              "min      28.000000     0.000000     0.000000     0.000000    60.000000   \n",
              "25%      47.000000   120.000000   175.000000     0.000000   120.000000   \n",
              "50%      54.000000   130.000000   224.500000     0.000000   138.000000   \n",
              "75%      60.000000   140.000000   268.000000     0.000000   156.000000   \n",
              "max      77.000000   200.000000   603.000000     1.000000   202.000000   \n",
              "\n",
              "           Oldpeak  HeartDisease  \n",
              "count  1190.000000   1190.000000  \n",
              "mean      0.871176      0.560504  \n",
              "std       1.053458      0.496534  \n",
              "min      -2.600000      0.000000  \n",
              "25%       0.000000      0.000000  \n",
              "50%       0.600000      1.000000  \n",
              "75%       1.500000      1.000000  \n",
              "max       6.200000      1.000000  "
            ],
            "text/html": [
              "\n",
              "  <div id=\"df-cfe50654-5720-445b-be95-eeac77131753\">\n",
              "    <div class=\"colab-df-container\">\n",
              "      <div>\n",
              "<style scoped>\n",
              "    .dataframe tbody tr th:only-of-type {\n",
              "        vertical-align: middle;\n",
              "    }\n",
              "\n",
              "    .dataframe tbody tr th {\n",
              "        vertical-align: top;\n",
              "    }\n",
              "\n",
              "    .dataframe thead th {\n",
              "        text-align: right;\n",
              "    }\n",
              "</style>\n",
              "<table border=\"1\" class=\"dataframe\">\n",
              "  <thead>\n",
              "    <tr style=\"text-align: right;\">\n",
              "      <th></th>\n",
              "      <th>Age</th>\n",
              "      <th>RestingBP</th>\n",
              "      <th>Cholesterol</th>\n",
              "      <th>FastingBS</th>\n",
              "      <th>MaxHR</th>\n",
              "      <th>Oldpeak</th>\n",
              "      <th>HeartDisease</th>\n",
              "    </tr>\n",
              "  </thead>\n",
              "  <tbody>\n",
              "    <tr>\n",
              "      <th>count</th>\n",
              "      <td>1190.000000</td>\n",
              "      <td>1190.000000</td>\n",
              "      <td>1190.000000</td>\n",
              "      <td>1190.000000</td>\n",
              "      <td>1190.000000</td>\n",
              "      <td>1190.000000</td>\n",
              "      <td>1190.000000</td>\n",
              "    </tr>\n",
              "    <tr>\n",
              "      <th>mean</th>\n",
              "      <td>53.425210</td>\n",
              "      <td>132.413445</td>\n",
              "      <td>199.714286</td>\n",
              "      <td>0.236975</td>\n",
              "      <td>137.127731</td>\n",
              "      <td>0.871176</td>\n",
              "      <td>0.560504</td>\n",
              "    </tr>\n",
              "    <tr>\n",
              "      <th>std</th>\n",
              "      <td>9.476581</td>\n",
              "      <td>18.270433</td>\n",
              "      <td>109.352682</td>\n",
              "      <td>0.425405</td>\n",
              "      <td>25.259171</td>\n",
              "      <td>1.053458</td>\n",
              "      <td>0.496534</td>\n",
              "    </tr>\n",
              "    <tr>\n",
              "      <th>min</th>\n",
              "      <td>28.000000</td>\n",
              "      <td>0.000000</td>\n",
              "      <td>0.000000</td>\n",
              "      <td>0.000000</td>\n",
              "      <td>60.000000</td>\n",
              "      <td>-2.600000</td>\n",
              "      <td>0.000000</td>\n",
              "    </tr>\n",
              "    <tr>\n",
              "      <th>25%</th>\n",
              "      <td>47.000000</td>\n",
              "      <td>120.000000</td>\n",
              "      <td>175.000000</td>\n",
              "      <td>0.000000</td>\n",
              "      <td>120.000000</td>\n",
              "      <td>0.000000</td>\n",
              "      <td>0.000000</td>\n",
              "    </tr>\n",
              "    <tr>\n",
              "      <th>50%</th>\n",
              "      <td>54.000000</td>\n",
              "      <td>130.000000</td>\n",
              "      <td>224.500000</td>\n",
              "      <td>0.000000</td>\n",
              "      <td>138.000000</td>\n",
              "      <td>0.600000</td>\n",
              "      <td>1.000000</td>\n",
              "    </tr>\n",
              "    <tr>\n",
              "      <th>75%</th>\n",
              "      <td>60.000000</td>\n",
              "      <td>140.000000</td>\n",
              "      <td>268.000000</td>\n",
              "      <td>0.000000</td>\n",
              "      <td>156.000000</td>\n",
              "      <td>1.500000</td>\n",
              "      <td>1.000000</td>\n",
              "    </tr>\n",
              "    <tr>\n",
              "      <th>max</th>\n",
              "      <td>77.000000</td>\n",
              "      <td>200.000000</td>\n",
              "      <td>603.000000</td>\n",
              "      <td>1.000000</td>\n",
              "      <td>202.000000</td>\n",
              "      <td>6.200000</td>\n",
              "      <td>1.000000</td>\n",
              "    </tr>\n",
              "  </tbody>\n",
              "</table>\n",
              "</div>\n",
              "      <button class=\"colab-df-convert\" onclick=\"convertToInteractive('df-cfe50654-5720-445b-be95-eeac77131753')\"\n",
              "              title=\"Convert this dataframe to an interactive table.\"\n",
              "              style=\"display:none;\">\n",
              "        \n",
              "  <svg xmlns=\"http://www.w3.org/2000/svg\" height=\"24px\"viewBox=\"0 0 24 24\"\n",
              "       width=\"24px\">\n",
              "    <path d=\"M0 0h24v24H0V0z\" fill=\"none\"/>\n",
              "    <path d=\"M18.56 5.44l.94 2.06.94-2.06 2.06-.94-2.06-.94-.94-2.06-.94 2.06-2.06.94zm-11 1L8.5 8.5l.94-2.06 2.06-.94-2.06-.94L8.5 2.5l-.94 2.06-2.06.94zm10 10l.94 2.06.94-2.06 2.06-.94-2.06-.94-.94-2.06-.94 2.06-2.06.94z\"/><path d=\"M17.41 7.96l-1.37-1.37c-.4-.4-.92-.59-1.43-.59-.52 0-1.04.2-1.43.59L10.3 9.45l-7.72 7.72c-.78.78-.78 2.05 0 2.83L4 21.41c.39.39.9.59 1.41.59.51 0 1.02-.2 1.41-.59l7.78-7.78 2.81-2.81c.8-.78.8-2.07 0-2.86zM5.41 20L4 18.59l7.72-7.72 1.47 1.35L5.41 20z\"/>\n",
              "  </svg>\n",
              "      </button>\n",
              "      \n",
              "  <style>\n",
              "    .colab-df-container {\n",
              "      display:flex;\n",
              "      flex-wrap:wrap;\n",
              "      gap: 12px;\n",
              "    }\n",
              "\n",
              "    .colab-df-convert {\n",
              "      background-color: #E8F0FE;\n",
              "      border: none;\n",
              "      border-radius: 50%;\n",
              "      cursor: pointer;\n",
              "      display: none;\n",
              "      fill: #1967D2;\n",
              "      height: 32px;\n",
              "      padding: 0 0 0 0;\n",
              "      width: 32px;\n",
              "    }\n",
              "\n",
              "    .colab-df-convert:hover {\n",
              "      background-color: #E2EBFA;\n",
              "      box-shadow: 0px 1px 2px rgba(60, 64, 67, 0.3), 0px 1px 3px 1px rgba(60, 64, 67, 0.15);\n",
              "      fill: #174EA6;\n",
              "    }\n",
              "\n",
              "    [theme=dark] .colab-df-convert {\n",
              "      background-color: #3B4455;\n",
              "      fill: #D2E3FC;\n",
              "    }\n",
              "\n",
              "    [theme=dark] .colab-df-convert:hover {\n",
              "      background-color: #434B5C;\n",
              "      box-shadow: 0px 1px 3px 1px rgba(0, 0, 0, 0.15);\n",
              "      filter: drop-shadow(0px 1px 2px rgba(0, 0, 0, 0.3));\n",
              "      fill: #FFFFFF;\n",
              "    }\n",
              "  </style>\n",
              "\n",
              "      <script>\n",
              "        const buttonEl =\n",
              "          document.querySelector('#df-cfe50654-5720-445b-be95-eeac77131753 button.colab-df-convert');\n",
              "        buttonEl.style.display =\n",
              "          google.colab.kernel.accessAllowed ? 'block' : 'none';\n",
              "\n",
              "        async function convertToInteractive(key) {\n",
              "          const element = document.querySelector('#df-cfe50654-5720-445b-be95-eeac77131753');\n",
              "          const dataTable =\n",
              "            await google.colab.kernel.invokeFunction('convertToInteractive',\n",
              "                                                     [key], {});\n",
              "          if (!dataTable) return;\n",
              "\n",
              "          const docLinkHtml = 'Like what you see? Visit the ' +\n",
              "            '<a target=\"_blank\" href=https://colab.research.google.com/notebooks/data_table.ipynb>data table notebook</a>'\n",
              "            + ' to learn more about interactive tables.';\n",
              "          element.innerHTML = '';\n",
              "          dataTable['output_type'] = 'display_data';\n",
              "          await google.colab.output.renderOutput(dataTable, element);\n",
              "          const docLink = document.createElement('div');\n",
              "          docLink.innerHTML = docLinkHtml;\n",
              "          element.appendChild(docLink);\n",
              "        }\n",
              "      </script>\n",
              "    </div>\n",
              "  </div>\n",
              "  "
            ]
          },
          "metadata": {},
          "execution_count": 12
        }
      ],
      "source": [
        "# describe()는 각 column에 대해 통계량을 요약해주는 함수입니다.\n",
        "# 기본적으로 NaN(누락데이터)는 제외하고 데이터 요약이 수행됩니다.\n",
        "\n",
        "data.describe()"
      ]
    },
    {
      "cell_type": "markdown",
      "metadata": {
        "id": "OxWUc9_uNhwr"
      },
      "source": [
        "## 문제 1"
      ]
    },
    {
      "cell_type": "markdown",
      "metadata": {
        "id": "zAUopgpbNwqH"
      },
      "source": [
        "* 보고서에 설명된 것을 바탕을 주어진 데이터의 변수들의 타입을 보고서에 기술하세요.\n",
        "\n",
        "  * 기술 형식 : 1. 변수 이름: categorical, nominal \n",
        "  * 타입은 대분류, 소분류 형식으로 적으세요. 예) 대분류(categorical), 소분류(nomial)"
      ]
    },
    {
      "cell_type": "markdown",
      "metadata": {
        "id": "0DMGNnrwHBDq"
      },
      "source": [
        "답)1. Age: Numeric, discrete\n",
        "2. Sex: Categorical, nominal\n",
        "3. ChestPainType: Categorical, nominal\n",
        "4. RestingBP: Numeric, discrete\n",
        "5. Cholesterol: Numeric, discrete\n",
        "6. FastingBS: Categorical, nominal\n",
        "7. RestingECG: Categorical, nominal\n",
        "8. MaxHR: Numeric, discrete\n",
        "9. ExerciseAngina: Categorical, nominal\n",
        "10. Oldpeak: Numeric, continuous\n",
        "11. ST_Slope: Categorical, nominal\n",
        "12. HeartDisease: Categorical, nominal"
      ]
    },
    {
      "cell_type": "markdown",
      "metadata": {
        "id": "vcSCug4uKTvJ"
      },
      "source": [
        "## 문제 2\n",
        "* 중복값을 확인하고 중복값을 제거한 후 DataFrame의 차원을 확인하는 코드를 작성하여 캡처 후 보고서에 업로드하세요."
      ]
    },
    {
      "cell_type": "code",
      "execution_count": 13,
      "metadata": {
        "colab": {
          "base_uri": "https://localhost:8080/",
          "height": 206
        },
        "id": "vAxj5i4SXmaq",
        "outputId": "b0c6efe1-0abf-4eff-d974-5ef67d7986c8"
      },
      "outputs": [
        {
          "output_type": "execute_result",
          "data": {
            "text/plain": [
              "     Age    Sex  ChestPainType  RestingBP  Cholesterol  FastingBS  RestingECG  \\\n",
              "0  False  False          False      False        False      False       False   \n",
              "1  False  False          False      False        False      False       False   \n",
              "2  False  False          False      False        False      False       False   \n",
              "3  False  False          False      False        False      False       False   \n",
              "4  False  False          False      False        False      False       False   \n",
              "\n",
              "   MaxHR  ExerciseAngina  Oldpeak  ST_Slope  HeartDisease  \n",
              "0  False           False    False     False         False  \n",
              "1  False           False    False     False         False  \n",
              "2  False           False    False     False         False  \n",
              "3  False           False    False     False         False  \n",
              "4  False           False    False     False         False  "
            ],
            "text/html": [
              "\n",
              "  <div id=\"df-324fabc9-1333-45fa-8d96-1826b03e6f01\">\n",
              "    <div class=\"colab-df-container\">\n",
              "      <div>\n",
              "<style scoped>\n",
              "    .dataframe tbody tr th:only-of-type {\n",
              "        vertical-align: middle;\n",
              "    }\n",
              "\n",
              "    .dataframe tbody tr th {\n",
              "        vertical-align: top;\n",
              "    }\n",
              "\n",
              "    .dataframe thead th {\n",
              "        text-align: right;\n",
              "    }\n",
              "</style>\n",
              "<table border=\"1\" class=\"dataframe\">\n",
              "  <thead>\n",
              "    <tr style=\"text-align: right;\">\n",
              "      <th></th>\n",
              "      <th>Age</th>\n",
              "      <th>Sex</th>\n",
              "      <th>ChestPainType</th>\n",
              "      <th>RestingBP</th>\n",
              "      <th>Cholesterol</th>\n",
              "      <th>FastingBS</th>\n",
              "      <th>RestingECG</th>\n",
              "      <th>MaxHR</th>\n",
              "      <th>ExerciseAngina</th>\n",
              "      <th>Oldpeak</th>\n",
              "      <th>ST_Slope</th>\n",
              "      <th>HeartDisease</th>\n",
              "    </tr>\n",
              "  </thead>\n",
              "  <tbody>\n",
              "    <tr>\n",
              "      <th>0</th>\n",
              "      <td>False</td>\n",
              "      <td>False</td>\n",
              "      <td>False</td>\n",
              "      <td>False</td>\n",
              "      <td>False</td>\n",
              "      <td>False</td>\n",
              "      <td>False</td>\n",
              "      <td>False</td>\n",
              "      <td>False</td>\n",
              "      <td>False</td>\n",
              "      <td>False</td>\n",
              "      <td>False</td>\n",
              "    </tr>\n",
              "    <tr>\n",
              "      <th>1</th>\n",
              "      <td>False</td>\n",
              "      <td>False</td>\n",
              "      <td>False</td>\n",
              "      <td>False</td>\n",
              "      <td>False</td>\n",
              "      <td>False</td>\n",
              "      <td>False</td>\n",
              "      <td>False</td>\n",
              "      <td>False</td>\n",
              "      <td>False</td>\n",
              "      <td>False</td>\n",
              "      <td>False</td>\n",
              "    </tr>\n",
              "    <tr>\n",
              "      <th>2</th>\n",
              "      <td>False</td>\n",
              "      <td>False</td>\n",
              "      <td>False</td>\n",
              "      <td>False</td>\n",
              "      <td>False</td>\n",
              "      <td>False</td>\n",
              "      <td>False</td>\n",
              "      <td>False</td>\n",
              "      <td>False</td>\n",
              "      <td>False</td>\n",
              "      <td>False</td>\n",
              "      <td>False</td>\n",
              "    </tr>\n",
              "    <tr>\n",
              "      <th>3</th>\n",
              "      <td>False</td>\n",
              "      <td>False</td>\n",
              "      <td>False</td>\n",
              "      <td>False</td>\n",
              "      <td>False</td>\n",
              "      <td>False</td>\n",
              "      <td>False</td>\n",
              "      <td>False</td>\n",
              "      <td>False</td>\n",
              "      <td>False</td>\n",
              "      <td>False</td>\n",
              "      <td>False</td>\n",
              "    </tr>\n",
              "    <tr>\n",
              "      <th>4</th>\n",
              "      <td>False</td>\n",
              "      <td>False</td>\n",
              "      <td>False</td>\n",
              "      <td>False</td>\n",
              "      <td>False</td>\n",
              "      <td>False</td>\n",
              "      <td>False</td>\n",
              "      <td>False</td>\n",
              "      <td>False</td>\n",
              "      <td>False</td>\n",
              "      <td>False</td>\n",
              "      <td>False</td>\n",
              "    </tr>\n",
              "  </tbody>\n",
              "</table>\n",
              "</div>\n",
              "      <button class=\"colab-df-convert\" onclick=\"convertToInteractive('df-324fabc9-1333-45fa-8d96-1826b03e6f01')\"\n",
              "              title=\"Convert this dataframe to an interactive table.\"\n",
              "              style=\"display:none;\">\n",
              "        \n",
              "  <svg xmlns=\"http://www.w3.org/2000/svg\" height=\"24px\"viewBox=\"0 0 24 24\"\n",
              "       width=\"24px\">\n",
              "    <path d=\"M0 0h24v24H0V0z\" fill=\"none\"/>\n",
              "    <path d=\"M18.56 5.44l.94 2.06.94-2.06 2.06-.94-2.06-.94-.94-2.06-.94 2.06-2.06.94zm-11 1L8.5 8.5l.94-2.06 2.06-.94-2.06-.94L8.5 2.5l-.94 2.06-2.06.94zm10 10l.94 2.06.94-2.06 2.06-.94-2.06-.94-.94-2.06-.94 2.06-2.06.94z\"/><path d=\"M17.41 7.96l-1.37-1.37c-.4-.4-.92-.59-1.43-.59-.52 0-1.04.2-1.43.59L10.3 9.45l-7.72 7.72c-.78.78-.78 2.05 0 2.83L4 21.41c.39.39.9.59 1.41.59.51 0 1.02-.2 1.41-.59l7.78-7.78 2.81-2.81c.8-.78.8-2.07 0-2.86zM5.41 20L4 18.59l7.72-7.72 1.47 1.35L5.41 20z\"/>\n",
              "  </svg>\n",
              "      </button>\n",
              "      \n",
              "  <style>\n",
              "    .colab-df-container {\n",
              "      display:flex;\n",
              "      flex-wrap:wrap;\n",
              "      gap: 12px;\n",
              "    }\n",
              "\n",
              "    .colab-df-convert {\n",
              "      background-color: #E8F0FE;\n",
              "      border: none;\n",
              "      border-radius: 50%;\n",
              "      cursor: pointer;\n",
              "      display: none;\n",
              "      fill: #1967D2;\n",
              "      height: 32px;\n",
              "      padding: 0 0 0 0;\n",
              "      width: 32px;\n",
              "    }\n",
              "\n",
              "    .colab-df-convert:hover {\n",
              "      background-color: #E2EBFA;\n",
              "      box-shadow: 0px 1px 2px rgba(60, 64, 67, 0.3), 0px 1px 3px 1px rgba(60, 64, 67, 0.15);\n",
              "      fill: #174EA6;\n",
              "    }\n",
              "\n",
              "    [theme=dark] .colab-df-convert {\n",
              "      background-color: #3B4455;\n",
              "      fill: #D2E3FC;\n",
              "    }\n",
              "\n",
              "    [theme=dark] .colab-df-convert:hover {\n",
              "      background-color: #434B5C;\n",
              "      box-shadow: 0px 1px 3px 1px rgba(0, 0, 0, 0.15);\n",
              "      filter: drop-shadow(0px 1px 2px rgba(0, 0, 0, 0.3));\n",
              "      fill: #FFFFFF;\n",
              "    }\n",
              "  </style>\n",
              "\n",
              "      <script>\n",
              "        const buttonEl =\n",
              "          document.querySelector('#df-324fabc9-1333-45fa-8d96-1826b03e6f01 button.colab-df-convert');\n",
              "        buttonEl.style.display =\n",
              "          google.colab.kernel.accessAllowed ? 'block' : 'none';\n",
              "\n",
              "        async function convertToInteractive(key) {\n",
              "          const element = document.querySelector('#df-324fabc9-1333-45fa-8d96-1826b03e6f01');\n",
              "          const dataTable =\n",
              "            await google.colab.kernel.invokeFunction('convertToInteractive',\n",
              "                                                     [key], {});\n",
              "          if (!dataTable) return;\n",
              "\n",
              "          const docLinkHtml = 'Like what you see? Visit the ' +\n",
              "            '<a target=\"_blank\" href=https://colab.research.google.com/notebooks/data_table.ipynb>data table notebook</a>'\n",
              "            + ' to learn more about interactive tables.';\n",
              "          element.innerHTML = '';\n",
              "          dataTable['output_type'] = 'display_data';\n",
              "          await google.colab.output.renderOutput(dataTable, element);\n",
              "          const docLink = document.createElement('div');\n",
              "          docLink.innerHTML = docLinkHtml;\n",
              "          element.appendChild(docLink);\n",
              "        }\n",
              "      </script>\n",
              "    </div>\n",
              "  </div>\n",
              "  "
            ]
          },
          "metadata": {},
          "execution_count": 13
        }
      ],
      "source": [
        "# isnull()는 DataFrame에 있는 결측치(NA)를 boolean 값으로 반환하는 함수입니다.\n",
        "# 결측치가 있으면 True를 반환합니다.\n",
        "\n",
        "data.isnull().head()"
      ]
    },
    {
      "cell_type": "code",
      "execution_count": 14,
      "metadata": {
        "colab": {
          "base_uri": "https://localhost:8080/"
        },
        "id": "GkFjz5EMWOvu",
        "outputId": "6b8233cb-20f9-440b-de74-182a31496c27"
      },
      "outputs": [
        {
          "output_type": "execute_result",
          "data": {
            "text/plain": [
              "Age               0\n",
              "Sex               0\n",
              "ChestPainType     0\n",
              "RestingBP         0\n",
              "Cholesterol       0\n",
              "FastingBS         0\n",
              "RestingECG        0\n",
              "MaxHR             0\n",
              "ExerciseAngina    0\n",
              "Oldpeak           0\n",
              "ST_Slope          0\n",
              "HeartDisease      0\n",
              "dtype: int64"
            ]
          },
          "metadata": {},
          "execution_count": 14
        }
      ],
      "source": [
        "# isnull()에 sum() 를 결합하여 DataFrame에 있는 결측치의 합을 구합니다.\n",
        "\n",
        "data.isnull().sum()"
      ]
    },
    {
      "cell_type": "code",
      "execution_count": 15,
      "metadata": {
        "colab": {
          "base_uri": "https://localhost:8080/"
        },
        "id": "bX4Z2P1BXu75",
        "outputId": "56660849-3f9c-4108-f463-472ec7962b8a"
      },
      "outputs": [
        {
          "output_type": "execute_result",
          "data": {
            "text/plain": [
              "0       False\n",
              "1       False\n",
              "2       False\n",
              "3       False\n",
              "4       False\n",
              "        ...  \n",
              "1185    False\n",
              "1186    False\n",
              "1187    False\n",
              "1188    False\n",
              "1189    False\n",
              "Length: 1190, dtype: bool"
            ]
          },
          "metadata": {},
          "execution_count": 15
        }
      ],
      "source": [
        "# duplicated()는 중복된 데이터를 Series 형식으로 반환합니다.\n",
        "\n",
        "data.duplicated()"
      ]
    },
    {
      "cell_type": "code",
      "execution_count": 16,
      "metadata": {
        "colab": {
          "base_uri": "https://localhost:8080/"
        },
        "id": "UMkdBrhRWXvd",
        "outputId": "26778041-6e2f-4f56-da9d-b471c4d5a2b4"
      },
      "outputs": [
        {
          "output_type": "execute_result",
          "data": {
            "text/plain": [
              "272"
            ]
          },
          "metadata": {},
          "execution_count": 16
        }
      ],
      "source": [
        "# duplicated()에 sum()을 결합하여 DataFrame에 있는 중복 데이터의 합을 구합니다.\n",
        "\n",
        "data.duplicated().sum()"
      ]
    },
    {
      "cell_type": "code",
      "execution_count": 17,
      "metadata": {
        "colab": {
          "base_uri": "https://localhost:8080/"
        },
        "id": "w2H9d-dfXbUi",
        "outputId": "94019e69-f4af-4dfd-d0d5-9f482c8efcf6"
      },
      "outputs": [
        {
          "output_type": "execute_result",
          "data": {
            "text/plain": [
              "(918, 12)"
            ]
          },
          "metadata": {},
          "execution_count": 17
        }
      ],
      "source": [
        "################  문제 2  ####################\n",
        "# 소스코드를 입력하고 캡처 후 보고서에 업로드하세요.\n",
        "# 코드 시작과 코드 끝 라인을 삭제하지 마세요.\n",
        "################ 코드 시작  #####################\n",
        "\n",
        "                \n",
        "                # 코드 작성\n",
        "data = data.drop_duplicates()\n",
        "\n",
        "data.shape\n",
        "\n",
        "\n",
        "# data.shape의 결과까지 캡처하여 보고서에 업로드 하세요.\n",
        "################ 코드 끝  #####################"
      ]
    },
    {
      "cell_type": "markdown",
      "metadata": {
        "id": "jfdAE8yemwNI"
      },
      "source": [
        "## 문제 3\n",
        "* outlier 처리하기\n"
      ]
    },
    {
      "cell_type": "markdown",
      "metadata": {
        "id": "hsr_cb0NOl_z"
      },
      "source": [
        "### 문제 3-1\n",
        "* Age, RestingBP, Cholesterol, MaxHR, Oldpeak column에 대해 각각 box plot을 그리고 캡처하여 결과를 보고서에 업로드하세요. (box plot을 그리는 모든 패키지 사용 가능)\n",
        "  * column의 이름이 box plot의 x축에 나타나도록 하세요.\n",
        "* outlier가 있는 column의 이름을 모두 보고서에 쓰세요."
      ]
    },
    {
      "cell_type": "code",
      "execution_count": 18,
      "metadata": {
        "colab": {
          "base_uri": "https://localhost:8080/",
          "height": 283
        },
        "id": "EufsF5RsI0Nr",
        "outputId": "84f1e1ca-2ba1-4391-9e47-6ff2d3294553"
      },
      "outputs": [
        {
          "output_type": "execute_result",
          "data": {
            "text/plain": [
              "<matplotlib.axes._subplots.AxesSubplot at 0x7fcbdc996310>"
            ]
          },
          "metadata": {},
          "execution_count": 18
        },
        {
          "output_type": "display_data",
          "data": {
            "text/plain": [
              "<Figure size 432x288 with 1 Axes>"
            ],
            "image/png": "[encoded data removed]"
          },
          "metadata": {
            "needs_background": "light"
          }
        }
      ],
      "source": [
        "## 코드 작성\n",
        "data.boxplot([\"Age\", \"RestingBP\", \"Cholesterol\", \"MaxHR\", \"Oldpeak\"])"
      ]
    },
    {
      "cell_type": "markdown",
      "metadata": {
        "id": "V1UL5nM5PPMX"
      },
      "source": [
        "### 문제 3-2\n",
        "* 문제 3-1에서 outlier가 있다고 판단한 열에 대해서 outlier를 제거하는 함수 extract_outliers() 의 빈 칸을 채워 outlier를 찾으세요.\n",
        "  * 입력: 원본 데이터, outlier가 있다고 판단한 열 하나\n",
        "  * 출력: outlier들만 있는 DataFrame"
      ]
    },
    {
      "cell_type": "code",
      "execution_count": 19,
      "metadata": {
        "id": "07-p-jd-z72L"
      },
      "outputs": [],
      "source": [
        "def extract_outliers(data,col):\n",
        "\n",
        "  q1 =  data[col].quantile(0.25)\n",
        "  q3 = data[col].quantile(0.75)\n",
        "\n",
        "  ################  문제 3-2  ####################\n",
        "  # 소스코드를 입력하고 캡처 후 보고서에 업로드하세요.\n",
        "  # 코드 시작과 코드 끝 라인을 삭제하지 마세요.\n",
        "  ################ 코드 시작  #####################\n",
        "  \n",
        "\n",
        "                  # 코드 작성\n",
        "  out = data\n",
        "  IQR = q3 - q1\n",
        "  out = out[(out[col] > q3+1.5 * (q3-q1) ) | (out[col] < q1 - 1.5* (q3-q1))]\n",
        "\n",
        "  ################ 코드 꿑  ######################\n",
        "  return out "
      ]
    },
    {
      "cell_type": "markdown",
      "metadata": {
        "id": "BmuQu6VnQUEq"
      },
      "source": [
        "### 문제 3-3\n",
        "* 문제 3-1에서 outlier가 있다고 판단한 열에 대해 문제 3-2의 extract_outliers()를 사용하여 원본 데이터프레임(data)에서 outlier를 제거한 DataFrame data_clean을 만드세요. "
      ]
    },
    {
      "cell_type": "code",
      "execution_count": 20,
      "metadata": {
        "id": "JtGq0K8espeW"
      },
      "outputs": [],
      "source": [
        "out_restingBP = extract_outliers(data, \"RestingBP\")\n",
        "out_cholesterol = extract_outliers(data, \"Cholesterol\")\n",
        "out_maxHR = extract_outliers(data, \"MaxHR\")\n",
        "out_oldpeak = extract_outliers(data, \"Oldpeak\")"
      ]
    },
    {
      "cell_type": "code",
      "execution_count": 21,
      "metadata": {
        "id": "v1E-EZIxKDbF"
      },
      "outputs": [],
      "source": [
        "# 코드 작성\n",
        "out = pd.concat([out_restingBP, out_cholesterol, out_maxHR, out_oldpeak], ignore_index=False)\n",
        "out = out.drop_duplicates()\n",
        "data_clean = data.drop(out.index)"
      ]
    },
    {
      "cell_type": "code",
      "execution_count": 22,
      "metadata": {
        "colab": {
          "base_uri": "https://localhost:8080/"
        },
        "id": "pv1Y4zAsMeGx",
        "outputId": "e548bfc9-31ed-4bfb-ac24-7b7774d35d7b"
      },
      "outputs": [
        {
          "output_type": "execute_result",
          "data": {
            "text/plain": [
              "(702, 12)"
            ]
          },
          "metadata": {},
          "execution_count": 22
        }
      ],
      "source": [
        "## 본 코드의 결과를 캡처 후 보고서에 업로드하세요.\n",
        "\n",
        "data_clean.shape"
      ]
    },
    {
      "cell_type": "markdown",
      "metadata": {
        "id": "VYHiUEq1i3Xr"
      },
      "source": [
        "## 문제 4\n"
      ]
    },
    {
      "cell_type": "markdown",
      "metadata": {
        "id": "ty9clUdXBGoc"
      },
      "source": [
        "### 문제 4-1\n",
        "* data_clean의 Sex 열의 데이터 값을 남성(M)일 경우 0, 여성(F)일 경우 1로 인코딩하세요.\n",
        "* 인코딩 후 data_clean.head()의 결과를 보고서에 캡처하여 업로드하세요."
      ]
    },
    {
      "cell_type": "code",
      "execution_count": 23,
      "metadata": {
        "colab": {
          "base_uri": "https://localhost:8080/",
          "height": 206
        },
        "id": "rDVEdRHvGjyr",
        "outputId": "b69efedd-a76f-40e7-d42c-bda334fc78c1"
      },
      "outputs": [
        {
          "output_type": "execute_result",
          "data": {
            "text/plain": [
              "   Age  Sex ChestPainType  RestingBP  Cholesterol  FastingBS RestingECG  \\\n",
              "1   48    0           ASY        140          208          0     Normal   \n",
              "2   64    1           ASY        142          276          0     Normal   \n",
              "3   40    0           ATA        130          275          0     Normal   \n",
              "4   63    0           ASY        130          330          1        LVH   \n",
              "6   60    1           NAP        102          318          0     Normal   \n",
              "\n",
              "   MaxHR ExerciseAngina  Oldpeak ST_Slope  HeartDisease  \n",
              "1    159              Y      1.5       Up             1  \n",
              "2    140              Y      1.0     Flat             1  \n",
              "3    150              N      0.0       Up             0  \n",
              "4    132              Y      1.8       Up             1  \n",
              "6    160              N      0.0       Up             0  "
            ],
            "text/html": [
              "\n",
              "  <div id=\"df-f38db202-9973-440e-980c-2bfbed43cfcb\">\n",
              "    <div class=\"colab-df-container\">\n",
              "      <div>\n",
              "<style scoped>\n",
              "    .dataframe tbody tr th:only-of-type {\n",
              "        vertical-align: middle;\n",
              "    }\n",
              "\n",
              "    .dataframe tbody tr th {\n",
              "        vertical-align: top;\n",
              "    }\n",
              "\n",
              "    .dataframe thead th {\n",
              "        text-align: right;\n",
              "    }\n",
              "</style>\n",
              "<table border=\"1\" class=\"dataframe\">\n",
              "  <thead>\n",
              "    <tr style=\"text-align: right;\">\n",
              "      <th></th>\n",
              "      <th>Age</th>\n",
              "      <th>Sex</th>\n",
              "      <th>ChestPainType</th>\n",
              "      <th>RestingBP</th>\n",
              "      <th>Cholesterol</th>\n",
              "      <th>FastingBS</th>\n",
              "      <th>RestingECG</th>\n",
              "      <th>MaxHR</th>\n",
              "      <th>ExerciseAngina</th>\n",
              "      <th>Oldpeak</th>\n",
              "      <th>ST_Slope</th>\n",
              "      <th>HeartDisease</th>\n",
              "    </tr>\n",
              "  </thead>\n",
              "  <tbody>\n",
              "    <tr>\n",
              "      <th>1</th>\n",
              "      <td>48</td>\n",
              "      <td>0</td>\n",
              "      <td>ASY</td>\n",
              "      <td>140</td>\n",
              "      <td>208</td>\n",
              "      <td>0</td>\n",
              "      <td>Normal</td>\n",
              "      <td>159</td>\n",
              "      <td>Y</td>\n",
              "      <td>1.5</td>\n",
              "      <td>Up</td>\n",
              "      <td>1</td>\n",
              "    </tr>\n",
              "    <tr>\n",
              "      <th>2</th>\n",
              "      <td>64</td>\n",
              "      <td>1</td>\n",
              "      <td>ASY</td>\n",
              "      <td>142</td>\n",
              "      <td>276</td>\n",
              "      <td>0</td>\n",
              "      <td>Normal</td>\n",
              "      <td>140</td>\n",
              "      <td>Y</td>\n",
              "      <td>1.0</td>\n",
              "      <td>Flat</td>\n",
              "      <td>1</td>\n",
              "    </tr>\n",
              "    <tr>\n",
              "      <th>3</th>\n",
              "      <td>40</td>\n",
              "      <td>0</td>\n",
              "      <td>ATA</td>\n",
              "      <td>130</td>\n",
              "      <td>275</td>\n",
              "      <td>0</td>\n",
              "      <td>Normal</td>\n",
              "      <td>150</td>\n",
              "      <td>N</td>\n",
              "      <td>0.0</td>\n",
              "      <td>Up</td>\n",
              "      <td>0</td>\n",
              "    </tr>\n",
              "    <tr>\n",
              "      <th>4</th>\n",
              "      <td>63</td>\n",
              "      <td>0</td>\n",
              "      <td>ASY</td>\n",
              "      <td>130</td>\n",
              "      <td>330</td>\n",
              "      <td>1</td>\n",
              "      <td>LVH</td>\n",
              "      <td>132</td>\n",
              "      <td>Y</td>\n",
              "      <td>1.8</td>\n",
              "      <td>Up</td>\n",
              "      <td>1</td>\n",
              "    </tr>\n",
              "    <tr>\n",
              "      <th>6</th>\n",
              "      <td>60</td>\n",
              "      <td>1</td>\n",
              "      <td>NAP</td>\n",
              "      <td>102</td>\n",
              "      <td>318</td>\n",
              "      <td>0</td>\n",
              "      <td>Normal</td>\n",
              "      <td>160</td>\n",
              "      <td>N</td>\n",
              "      <td>0.0</td>\n",
              "      <td>Up</td>\n",
              "      <td>0</td>\n",
              "    </tr>\n",
              "  </tbody>\n",
              "</table>\n",
              "</div>\n",
              "      <button class=\"colab-df-convert\" onclick=\"convertToInteractive('df-f38db202-9973-440e-980c-2bfbed43cfcb')\"\n",
              "              title=\"Convert this dataframe to an interactive table.\"\n",
              "              style=\"display:none;\">\n",
              "        \n",
              "  <svg xmlns=\"http://www.w3.org/2000/svg\" height=\"24px\"viewBox=\"0 0 24 24\"\n",
              "       width=\"24px\">\n",
              "    <path d=\"M0 0h24v24H0V0z\" fill=\"none\"/>\n",
              "    <path d=\"M18.56 5.44l.94 2.06.94-2.06 2.06-.94-2.06-.94-.94-2.06-.94 2.06-2.06.94zm-11 1L8.5 8.5l.94-2.06 2.06-.94-2.06-.94L8.5 2.5l-.94 2.06-2.06.94zm10 10l.94 2.06.94-2.06 2.06-.94-2.06-.94-.94-2.06-.94 2.06-2.06.94z\"/><path d=\"M17.41 7.96l-1.37-1.37c-.4-.4-.92-.59-1.43-.59-.52 0-1.04.2-1.43.59L10.3 9.45l-7.72 7.72c-.78.78-.78 2.05 0 2.83L4 21.41c.39.39.9.59 1.41.59.51 0 1.02-.2 1.41-.59l7.78-7.78 2.81-2.81c.8-.78.8-2.07 0-2.86zM5.41 20L4 18.59l7.72-7.72 1.47 1.35L5.41 20z\"/>\n",
              "  </svg>\n",
              "      </button>\n",
              "      \n",
              "  <style>\n",
              "    .colab-df-container {\n",
              "      display:flex;\n",
              "      flex-wrap:wrap;\n",
              "      gap: 12px;\n",
              "    }\n",
              "\n",
              "    .colab-df-convert {\n",
              "      background-color: #E8F0FE;\n",
              "      border: none;\n",
              "      border-radius: 50%;\n",
              "      cursor: pointer;\n",
              "      display: none;\n",
              "      fill: #1967D2;\n",
              "      height: 32px;\n",
              "      padding: 0 0 0 0;\n",
              "      width: 32px;\n",
              "    }\n",
              "\n",
              "    .colab-df-convert:hover {\n",
              "      background-color: #E2EBFA;\n",
              "      box-shadow: 0px 1px 2px rgba(60, 64, 67, 0.3), 0px 1px 3px 1px rgba(60, 64, 67, 0.15);\n",
              "      fill: #174EA6;\n",
              "    }\n",
              "\n",
              "    [theme=dark] .colab-df-convert {\n",
              "      background-color: #3B4455;\n",
              "      fill: #D2E3FC;\n",
              "    }\n",
              "\n",
              "    [theme=dark] .colab-df-convert:hover {\n",
              "      background-color: #434B5C;\n",
              "      box-shadow: 0px 1px 3px 1px rgba(0, 0, 0, 0.15);\n",
              "      filter: drop-shadow(0px 1px 2px rgba(0, 0, 0, 0.3));\n",
              "      fill: #FFFFFF;\n",
              "    }\n",
              "  </style>\n",
              "\n",
              "      <script>\n",
              "        const buttonEl =\n",
              "          document.querySelector('#df-f38db202-9973-440e-980c-2bfbed43cfcb button.colab-df-convert');\n",
              "        buttonEl.style.display =\n",
              "          google.colab.kernel.accessAllowed ? 'block' : 'none';\n",
              "\n",
              "        async function convertToInteractive(key) {\n",
              "          const element = document.querySelector('#df-f38db202-9973-440e-980c-2bfbed43cfcb');\n",
              "          const dataTable =\n",
              "            await google.colab.kernel.invokeFunction('convertToInteractive',\n",
              "                                                     [key], {});\n",
              "          if (!dataTable) return;\n",
              "\n",
              "          const docLinkHtml = 'Like what you see? Visit the ' +\n",
              "            '<a target=\"_blank\" href=https://colab.research.google.com/notebooks/data_table.ipynb>data table notebook</a>'\n",
              "            + ' to learn more about interactive tables.';\n",
              "          element.innerHTML = '';\n",
              "          dataTable['output_type'] = 'display_data';\n",
              "          await google.colab.output.renderOutput(dataTable, element);\n",
              "          const docLink = document.createElement('div');\n",
              "          docLink.innerHTML = docLinkHtml;\n",
              "          element.appendChild(docLink);\n",
              "        }\n",
              "      </script>\n",
              "    </div>\n",
              "  </div>\n",
              "  "
            ]
          },
          "metadata": {},
          "execution_count": 23
        }
      ],
      "source": [
        "map_sex = {'M':0, 'F':1}\n",
        "data_clean[['Sex']] = data_clean[['Sex']].applymap(map_sex.get)\n",
        "data_clean.head()"
      ]
    },
    {
      "cell_type": "markdown",
      "metadata": {
        "id": "UoBHGhVnBuPL"
      },
      "source": [
        "### 문제 4-2\n",
        "* data_clean의 ExerciseAngina 열의 데이터 값을 N인 경우 0, Y인 경우 1로 인코딩하세요."
      ]
    },
    {
      "cell_type": "code",
      "execution_count": 24,
      "metadata": {
        "id": "7VZT9vlZLS6r",
        "colab": {
          "base_uri": "https://localhost:8080/",
          "height": 206
        },
        "outputId": "17535ab4-c54d-49a8-9645-d514d5397249"
      },
      "outputs": [
        {
          "output_type": "execute_result",
          "data": {
            "text/plain": [
              "   Age  Sex ChestPainType  RestingBP  Cholesterol  FastingBS RestingECG  \\\n",
              "1   48    0           ASY        140          208          0     Normal   \n",
              "2   64    1           ASY        142          276          0     Normal   \n",
              "3   40    0           ATA        130          275          0     Normal   \n",
              "4   63    0           ASY        130          330          1        LVH   \n",
              "6   60    1           NAP        102          318          0     Normal   \n",
              "\n",
              "   MaxHR  ExerciseAngina  Oldpeak ST_Slope  HeartDisease  \n",
              "1    159               1      1.5       Up             1  \n",
              "2    140               1      1.0     Flat             1  \n",
              "3    150               0      0.0       Up             0  \n",
              "4    132               1      1.8       Up             1  \n",
              "6    160               0      0.0       Up             0  "
            ],
            "text/html": [
              "\n",
              "  <div id=\"df-36de043e-ecbe-4638-974b-35a9a4233b44\">\n",
              "    <div class=\"colab-df-container\">\n",
              "      <div>\n",
              "<style scoped>\n",
              "    .dataframe tbody tr th:only-of-type {\n",
              "        vertical-align: middle;\n",
              "    }\n",
              "\n",
              "    .dataframe tbody tr th {\n",
              "        vertical-align: top;\n",
              "    }\n",
              "\n",
              "    .dataframe thead th {\n",
              "        text-align: right;\n",
              "    }\n",
              "</style>\n",
              "<table border=\"1\" class=\"dataframe\">\n",
              "  <thead>\n",
              "    <tr style=\"text-align: right;\">\n",
              "      <th></th>\n",
              "      <th>Age</th>\n",
              "      <th>Sex</th>\n",
              "      <th>ChestPainType</th>\n",
              "      <th>RestingBP</th>\n",
              "      <th>Cholesterol</th>\n",
              "      <th>FastingBS</th>\n",
              "      <th>RestingECG</th>\n",
              "      <th>MaxHR</th>\n",
              "      <th>ExerciseAngina</th>\n",
              "      <th>Oldpeak</th>\n",
              "      <th>ST_Slope</th>\n",
              "      <th>HeartDisease</th>\n",
              "    </tr>\n",
              "  </thead>\n",
              "  <tbody>\n",
              "    <tr>\n",
              "      <th>1</th>\n",
              "      <td>48</td>\n",
              "      <td>0</td>\n",
              "      <td>ASY</td>\n",
              "      <td>140</td>\n",
              "      <td>208</td>\n",
              "      <td>0</td>\n",
              "      <td>Normal</td>\n",
              "      <td>159</td>\n",
              "      <td>1</td>\n",
              "      <td>1.5</td>\n",
              "      <td>Up</td>\n",
              "      <td>1</td>\n",
              "    </tr>\n",
              "    <tr>\n",
              "      <th>2</th>\n",
              "      <td>64</td>\n",
              "      <td>1</td>\n",
              "      <td>ASY</td>\n",
              "      <td>142</td>\n",
              "      <td>276</td>\n",
              "      <td>0</td>\n",
              "      <td>Normal</td>\n",
              "      <td>140</td>\n",
              "      <td>1</td>\n",
              "      <td>1.0</td>\n",
              "      <td>Flat</td>\n",
              "      <td>1</td>\n",
              "    </tr>\n",
              "    <tr>\n",
              "      <th>3</th>\n",
              "      <td>40</td>\n",
              "      <td>0</td>\n",
              "      <td>ATA</td>\n",
              "      <td>130</td>\n",
              "      <td>275</td>\n",
              "      <td>0</td>\n",
              "      <td>Normal</td>\n",
              "      <td>150</td>\n",
              "      <td>0</td>\n",
              "      <td>0.0</td>\n",
              "      <td>Up</td>\n",
              "      <td>0</td>\n",
              "    </tr>\n",
              "    <tr>\n",
              "      <th>4</th>\n",
              "      <td>63</td>\n",
              "      <td>0</td>\n",
              "      <td>ASY</td>\n",
              "      <td>130</td>\n",
              "      <td>330</td>\n",
              "      <td>1</td>\n",
              "      <td>LVH</td>\n",
              "      <td>132</td>\n",
              "      <td>1</td>\n",
              "      <td>1.8</td>\n",
              "      <td>Up</td>\n",
              "      <td>1</td>\n",
              "    </tr>\n",
              "    <tr>\n",
              "      <th>6</th>\n",
              "      <td>60</td>\n",
              "      <td>1</td>\n",
              "      <td>NAP</td>\n",
              "      <td>102</td>\n",
              "      <td>318</td>\n",
              "      <td>0</td>\n",
              "      <td>Normal</td>\n",
              "      <td>160</td>\n",
              "      <td>0</td>\n",
              "      <td>0.0</td>\n",
              "      <td>Up</td>\n",
              "      <td>0</td>\n",
              "    </tr>\n",
              "  </tbody>\n",
              "</table>\n",
              "</div>\n",
              "      <button class=\"colab-df-convert\" onclick=\"convertToInteractive('df-36de043e-ecbe-4638-974b-35a9a4233b44')\"\n",
              "              title=\"Convert this dataframe to an interactive table.\"\n",
              "              style=\"display:none;\">\n",
              "        \n",
              "  <svg xmlns=\"http://www.w3.org/2000/svg\" height=\"24px\"viewBox=\"0 0 24 24\"\n",
              "       width=\"24px\">\n",
              "    <path d=\"M0 0h24v24H0V0z\" fill=\"none\"/>\n",
              "    <path d=\"M18.56 5.44l.94 2.06.94-2.06 2.06-.94-2.06-.94-.94-2.06-.94 2.06-2.06.94zm-11 1L8.5 8.5l.94-2.06 2.06-.94-2.06-.94L8.5 2.5l-.94 2.06-2.06.94zm10 10l.94 2.06.94-2.06 2.06-.94-2.06-.94-.94-2.06-.94 2.06-2.06.94z\"/><path d=\"M17.41 7.96l-1.37-1.37c-.4-.4-.92-.59-1.43-.59-.52 0-1.04.2-1.43.59L10.3 9.45l-7.72 7.72c-.78.78-.78 2.05 0 2.83L4 21.41c.39.39.9.59 1.41.59.51 0 1.02-.2 1.41-.59l7.78-7.78 2.81-2.81c.8-.78.8-2.07 0-2.86zM5.41 20L4 18.59l7.72-7.72 1.47 1.35L5.41 20z\"/>\n",
              "  </svg>\n",
              "      </button>\n",
              "      \n",
              "  <style>\n",
              "    .colab-df-container {\n",
              "      display:flex;\n",
              "      flex-wrap:wrap;\n",
              "      gap: 12px;\n",
              "    }\n",
              "\n",
              "    .colab-df-convert {\n",
              "      background-color: #E8F0FE;\n",
              "      border: none;\n",
              "      border-radius: 50%;\n",
              "      cursor: pointer;\n",
              "      display: none;\n",
              "      fill: #1967D2;\n",
              "      height: 32px;\n",
              "      padding: 0 0 0 0;\n",
              "      width: 32px;\n",
              "    }\n",
              "\n",
              "    .colab-df-convert:hover {\n",
              "      background-color: #E2EBFA;\n",
              "      box-shadow: 0px 1px 2px rgba(60, 64, 67, 0.3), 0px 1px 3px 1px rgba(60, 64, 67, 0.15);\n",
              "      fill: #174EA6;\n",
              "    }\n",
              "\n",
              "    [theme=dark] .colab-df-convert {\n",
              "      background-color: #3B4455;\n",
              "      fill: #D2E3FC;\n",
              "    }\n",
              "\n",
              "    [theme=dark] .colab-df-convert:hover {\n",
              "      background-color: #434B5C;\n",
              "      box-shadow: 0px 1px 3px 1px rgba(0, 0, 0, 0.15);\n",
              "      filter: drop-shadow(0px 1px 2px rgba(0, 0, 0, 0.3));\n",
              "      fill: #FFFFFF;\n",
              "    }\n",
              "  </style>\n",
              "\n",
              "      <script>\n",
              "        const buttonEl =\n",
              "          document.querySelector('#df-36de043e-ecbe-4638-974b-35a9a4233b44 button.colab-df-convert');\n",
              "        buttonEl.style.display =\n",
              "          google.colab.kernel.accessAllowed ? 'block' : 'none';\n",
              "\n",
              "        async function convertToInteractive(key) {\n",
              "          const element = document.querySelector('#df-36de043e-ecbe-4638-974b-35a9a4233b44');\n",
              "          const dataTable =\n",
              "            await google.colab.kernel.invokeFunction('convertToInteractive',\n",
              "                                                     [key], {});\n",
              "          if (!dataTable) return;\n",
              "\n",
              "          const docLinkHtml = 'Like what you see? Visit the ' +\n",
              "            '<a target=\"_blank\" href=https://colab.research.google.com/notebooks/data_table.ipynb>data table notebook</a>'\n",
              "            + ' to learn more about interactive tables.';\n",
              "          element.innerHTML = '';\n",
              "          dataTable['output_type'] = 'display_data';\n",
              "          await google.colab.output.renderOutput(dataTable, element);\n",
              "          const docLink = document.createElement('div');\n",
              "          docLink.innerHTML = docLinkHtml;\n",
              "          element.appendChild(docLink);\n",
              "        }\n",
              "      </script>\n",
              "    </div>\n",
              "  </div>\n",
              "  "
            ]
          },
          "metadata": {},
          "execution_count": 24
        }
      ],
      "source": [
        "map_ex = {'N':0, 'Y':1}\n",
        "data_clean[['ExerciseAngina']] = data_clean[['ExerciseAngina']].applymap(map_ex.get)\n",
        "data_clean.head()"
      ]
    },
    {
      "cell_type": "markdown",
      "metadata": {
        "id": "ZNfjq0AuTKlL"
      },
      "source": [
        "### correlation 구하기\b\n",
        "각 변수 별 correlation을 구하기 위해 Sex와 ExerciseAngina 열의 타입을 변경하기"
      ]
    },
    {
      "cell_type": "code",
      "execution_count": 25,
      "metadata": {
        "id": "cgbS6v1dTcTE",
        "colab": {
          "base_uri": "https://localhost:8080/"
        },
        "outputId": "45e777b4-9001-46ef-dc7b-c584aa9d3315"
      },
      "outputs": [
        {
          "output_type": "stream",
          "name": "stdout",
          "text": [
            "<class 'pandas.core.frame.DataFrame'>\n",
            "Int64Index: 702 entries, 1 to 1189\n",
            "Data columns (total 12 columns):\n",
            " #   Column          Non-Null Count  Dtype  \n",
            "---  ------          --------------  -----  \n",
            " 0   Age             702 non-null    int64  \n",
            " 1   Sex             702 non-null    int64  \n",
            " 2   ChestPainType   702 non-null    object \n",
            " 3   RestingBP       702 non-null    int64  \n",
            " 4   Cholesterol     702 non-null    int64  \n",
            " 5   FastingBS       702 non-null    int64  \n",
            " 6   RestingECG      702 non-null    object \n",
            " 7   MaxHR           702 non-null    int64  \n",
            " 8   ExerciseAngina  702 non-null    int64  \n",
            " 9   Oldpeak         702 non-null    float64\n",
            " 10  ST_Slope        702 non-null    object \n",
            " 11  HeartDisease    702 non-null    int64  \n",
            "dtypes: float64(1), int64(8), object(3)\n",
            "memory usage: 71.3+ KB\n"
          ]
        }
      ],
      "source": [
        "data_clean.info()\n",
        "# Sex와 ExerciseAngina의 데이터 타입이 object\n",
        "# object -> int64로 타입 변환이 필요"
      ]
    },
    {
      "cell_type": "code",
      "execution_count": 26,
      "metadata": {
        "id": "Fax4OD6pTgDh"
      },
      "outputs": [],
      "source": [
        "data_clean['Sex'] = data_clean['Sex'].astype('int64')\n",
        "data_clean['ExerciseAngina'] = data_clean['ExerciseAngina'].astype('int64')"
      ]
    },
    {
      "cell_type": "code",
      "execution_count": 27,
      "metadata": {
        "id": "8ilJA27UUott",
        "colab": {
          "base_uri": "https://localhost:8080/"
        },
        "outputId": "c129e81a-90e2-4827-d435-081745c695e2"
      },
      "outputs": [
        {
          "output_type": "stream",
          "name": "stdout",
          "text": [
            "<class 'pandas.core.frame.DataFrame'>\n",
            "Int64Index: 702 entries, 1 to 1189\n",
            "Data columns (total 12 columns):\n",
            " #   Column          Non-Null Count  Dtype  \n",
            "---  ------          --------------  -----  \n",
            " 0   Age             702 non-null    int64  \n",
            " 1   Sex             702 non-null    int64  \n",
            " 2   ChestPainType   702 non-null    object \n",
            " 3   RestingBP       702 non-null    int64  \n",
            " 4   Cholesterol     702 non-null    int64  \n",
            " 5   FastingBS       702 non-null    int64  \n",
            " 6   RestingECG      702 non-null    object \n",
            " 7   MaxHR           702 non-null    int64  \n",
            " 8   ExerciseAngina  702 non-null    int64  \n",
            " 9   Oldpeak         702 non-null    float64\n",
            " 10  ST_Slope        702 non-null    object \n",
            " 11  HeartDisease    702 non-null    int64  \n",
            "dtypes: float64(1), int64(8), object(3)\n",
            "memory usage: 71.3+ KB\n"
          ]
        }
      ],
      "source": [
        "data_clean.info()"
      ]
    },
    {
      "cell_type": "code",
      "execution_count": 28,
      "metadata": {
        "id": "2oP1xqKTi29F",
        "colab": {
          "base_uri": "https://localhost:8080/",
          "height": 622
        },
        "outputId": "fc258148-2d16-4399-9f0e-652e2d10e3cb"
      },
      "outputs": [
        {
          "output_type": "execute_result",
          "data": {
            "text/plain": [
              "<matplotlib.axes._subplots.AxesSubplot at 0x7fcbc09f9dd0>"
            ]
          },
          "metadata": {},
          "execution_count": 28
        },
        {
          "output_type": "display_data",
          "data": {
            "text/plain": [
              "<Figure size 792x648 with 2 Axes>"
            ],
            "image/png": "[encoded data removed]"
          },
          "metadata": {
            "needs_background": "light"
          }
        }
      ],
      "source": [
        "import matplotlib.pyplot as plt\n",
        "import seaborn as sns\n",
        "# correlation matrix 계산하기\n",
        "corr = data_clean.corr()\n",
        "\n",
        "# 위 삼각형에대한 마스크 생성하기\n",
        "mask = np.triu(np.ones_like(corr, dtype=bool))\n",
        "\n",
        "# matplotlib figure 설정하기\n",
        "f, ax = plt.subplots(figsize=(11, 9))\n",
        "\n",
        "# colormap 설정하기\n",
        "cmap = sns.diverging_palette(230, 20, as_cmap=True)\n",
        "\n",
        "# heatmap 그리기\n",
        "sns.heatmap(corr, mask=mask, cmap=cmap, vmax=.3, center=0,\n",
        "            square=True, linewidths=.5, cbar_kws={\"shrink\": .5})\n"
      ]
    },
    {
      "cell_type": "markdown",
      "metadata": {
        "id": "2wqvQ1O4VqJf"
      },
      "source": [
        "### 문제 4-3\n",
        "* 위의 Heat map에서 HeartDisease 열과 연관성이 높은 Age, FastingBS, ExerciseAngina, Oldpeak 열만을 추출하여 data_final DataFrame을 만드세요. \n",
        "* HeartDisease 열도 data_final에 포함됩니다. \n",
        "* data_final.head()의 결과를 보고서에 업로드하세요."
      ]
    },
    {
      "cell_type": "code",
      "execution_count": 29,
      "metadata": {
        "id": "ZJ4bFUyVWcaO",
        "colab": {
          "base_uri": "https://localhost:8080/",
          "height": 206
        },
        "outputId": "4bb09a12-ad22-4ff8-f04d-2931bfe436da"
      },
      "outputs": [
        {
          "output_type": "execute_result",
          "data": {
            "text/plain": [
              "   Age  RestingBP  FastingBS  ExerciseAngina  Oldpeak  HeartDisease\n",
              "1   48        140          0               1      1.5             1\n",
              "2   64        142          0               1      1.0             1\n",
              "3   40        130          0               0      0.0             0\n",
              "4   63        130          1               1      1.8             1\n",
              "6   60        102          0               0      0.0             0"
            ],
            "text/html": [
              "\n",
              "  <div id=\"df-4de2ab90-409c-4a9a-93f0-c3850ffebcc1\">\n",
              "    <div class=\"colab-df-container\">\n",
              "      <div>\n",
              "<style scoped>\n",
              "    .dataframe tbody tr th:only-of-type {\n",
              "        vertical-align: middle;\n",
              "    }\n",
              "\n",
              "    .dataframe tbody tr th {\n",
              "        vertical-align: top;\n",
              "    }\n",
              "\n",
              "    .dataframe thead th {\n",
              "        text-align: right;\n",
              "    }\n",
              "</style>\n",
              "<table border=\"1\" class=\"dataframe\">\n",
              "  <thead>\n",
              "    <tr style=\"text-align: right;\">\n",
              "      <th></th>\n",
              "      <th>Age</th>\n",
              "      <th>RestingBP</th>\n",
              "      <th>FastingBS</th>\n",
              "      <th>ExerciseAngina</th>\n",
              "      <th>Oldpeak</th>\n",
              "      <th>HeartDisease</th>\n",
              "    </tr>\n",
              "  </thead>\n",
              "  <tbody>\n",
              "    <tr>\n",
              "      <th>1</th>\n",
              "      <td>48</td>\n",
              "      <td>140</td>\n",
              "      <td>0</td>\n",
              "      <td>1</td>\n",
              "      <td>1.5</td>\n",
              "      <td>1</td>\n",
              "    </tr>\n",
              "    <tr>\n",
              "      <th>2</th>\n",
              "      <td>64</td>\n",
              "      <td>142</td>\n",
              "      <td>0</td>\n",
              "      <td>1</td>\n",
              "      <td>1.0</td>\n",
              "      <td>1</td>\n",
              "    </tr>\n",
              "    <tr>\n",
              "      <th>3</th>\n",
              "      <td>40</td>\n",
              "      <td>130</td>\n",
              "      <td>0</td>\n",
              "      <td>0</td>\n",
              "      <td>0.0</td>\n",
              "      <td>0</td>\n",
              "    </tr>\n",
              "    <tr>\n",
              "      <th>4</th>\n",
              "      <td>63</td>\n",
              "      <td>130</td>\n",
              "      <td>1</td>\n",
              "      <td>1</td>\n",
              "      <td>1.8</td>\n",
              "      <td>1</td>\n",
              "    </tr>\n",
              "    <tr>\n",
              "      <th>6</th>\n",
              "      <td>60</td>\n",
              "      <td>102</td>\n",
              "      <td>0</td>\n",
              "      <td>0</td>\n",
              "      <td>0.0</td>\n",
              "      <td>0</td>\n",
              "    </tr>\n",
              "  </tbody>\n",
              "</table>\n",
              "</div>\n",
              "      <button class=\"colab-df-convert\" onclick=\"convertToInteractive('df-4de2ab90-409c-4a9a-93f0-c3850ffebcc1')\"\n",
              "              title=\"Convert this dataframe to an interactive table.\"\n",
              "              style=\"display:none;\">\n",
              "        \n",
              "  <svg xmlns=\"http://www.w3.org/2000/svg\" height=\"24px\"viewBox=\"0 0 24 24\"\n",
              "       width=\"24px\">\n",
              "    <path d=\"M0 0h24v24H0V0z\" fill=\"none\"/>\n",
              "    <path d=\"M18.56 5.44l.94 2.06.94-2.06 2.06-.94-2.06-.94-.94-2.06-.94 2.06-2.06.94zm-11 1L8.5 8.5l.94-2.06 2.06-.94-2.06-.94L8.5 2.5l-.94 2.06-2.06.94zm10 10l.94 2.06.94-2.06 2.06-.94-2.06-.94-.94-2.06-.94 2.06-2.06.94z\"/><path d=\"M17.41 7.96l-1.37-1.37c-.4-.4-.92-.59-1.43-.59-.52 0-1.04.2-1.43.59L10.3 9.45l-7.72 7.72c-.78.78-.78 2.05 0 2.83L4 21.41c.39.39.9.59 1.41.59.51 0 1.02-.2 1.41-.59l7.78-7.78 2.81-2.81c.8-.78.8-2.07 0-2.86zM5.41 20L4 18.59l7.72-7.72 1.47 1.35L5.41 20z\"/>\n",
              "  </svg>\n",
              "      </button>\n",
              "      \n",
              "  <style>\n",
              "    .colab-df-container {\n",
              "      display:flex;\n",
              "      flex-wrap:wrap;\n",
              "      gap: 12px;\n",
              "    }\n",
              "\n",
              "    .colab-df-convert {\n",
              "      background-color: #E8F0FE;\n",
              "      border: none;\n",
              "      border-radius: 50%;\n",
              "      cursor: pointer;\n",
              "      display: none;\n",
              "      fill: #1967D2;\n",
              "      height: 32px;\n",
              "      padding: 0 0 0 0;\n",
              "      width: 32px;\n",
              "    }\n",
              "\n",
              "    .colab-df-convert:hover {\n",
              "      background-color: #E2EBFA;\n",
              "      box-shadow: 0px 1px 2px rgba(60, 64, 67, 0.3), 0px 1px 3px 1px rgba(60, 64, 67, 0.15);\n",
              "      fill: #174EA6;\n",
              "    }\n",
              "\n",
              "    [theme=dark] .colab-df-convert {\n",
              "      background-color: #3B4455;\n",
              "      fill: #D2E3FC;\n",
              "    }\n",
              "\n",
              "    [theme=dark] .colab-df-convert:hover {\n",
              "      background-color: #434B5C;\n",
              "      box-shadow: 0px 1px 3px 1px rgba(0, 0, 0, 0.15);\n",
              "      filter: drop-shadow(0px 1px 2px rgba(0, 0, 0, 0.3));\n",
              "      fill: #FFFFFF;\n",
              "    }\n",
              "  </style>\n",
              "\n",
              "      <script>\n",
              "        const buttonEl =\n",
              "          document.querySelector('#df-4de2ab90-409c-4a9a-93f0-c3850ffebcc1 button.colab-df-convert');\n",
              "        buttonEl.style.display =\n",
              "          google.colab.kernel.accessAllowed ? 'block' : 'none';\n",
              "\n",
              "        async function convertToInteractive(key) {\n",
              "          const element = document.querySelector('#df-4de2ab90-409c-4a9a-93f0-c3850ffebcc1');\n",
              "          const dataTable =\n",
              "            await google.colab.kernel.invokeFunction('convertToInteractive',\n",
              "                                                     [key], {});\n",
              "          if (!dataTable) return;\n",
              "\n",
              "          const docLinkHtml = 'Like what you see? Visit the ' +\n",
              "            '<a target=\"_blank\" href=https://colab.research.google.com/notebooks/data_table.ipynb>data table notebook</a>'\n",
              "            + ' to learn more about interactive tables.';\n",
              "          element.innerHTML = '';\n",
              "          dataTable['output_type'] = 'display_data';\n",
              "          await google.colab.output.renderOutput(dataTable, element);\n",
              "          const docLink = document.createElement('div');\n",
              "          docLink.innerHTML = docLinkHtml;\n",
              "          element.appendChild(docLink);\n",
              "        }\n",
              "      </script>\n",
              "    </div>\n",
              "  </div>\n",
              "  "
            ]
          },
          "metadata": {},
          "execution_count": 29
        }
      ],
      "source": [
        "data_final = data_clean[['Age', 'RestingBP', 'FastingBS', 'ExerciseAngina', 'Oldpeak', 'HeartDisease']]\n",
        "data_final.head()"
      ]
    },
    {
      "cell_type": "markdown",
      "metadata": {
        "id": "9-0PHnCAW8AI"
      },
      "source": [
        "## 문제 5\n",
        "* KNN 이해하기"
      ]
    },
    {
      "cell_type": "markdown",
      "metadata": {
        "id": "KQXK4myfW9_a"
      },
      "source": [
        "### train과 test set 나누기"
      ]
    },
    {
      "cell_type": "code",
      "execution_count": 30,
      "metadata": {
        "id": "9Z5dw2qqv8GK"
      },
      "outputs": [],
      "source": [
        "# train과 test set을 나누기 위한 함수\n",
        "from sklearn.model_selection import train_test_split"
      ]
    },
    {
      "cell_type": "code",
      "execution_count": 31,
      "metadata": {
        "id": "7icGoHBpv9Uj",
        "colab": {
          "base_uri": "https://localhost:8080/"
        },
        "outputId": "a0ddc0aa-c7b5-437c-f9c2-caf5fd830baf"
      },
      "outputs": [
        {
          "output_type": "execute_result",
          "data": {
            "text/plain": [
              "(702, 6)"
            ]
          },
          "metadata": {},
          "execution_count": 31
        }
      ],
      "source": [
        "# 아래 결과는 최초 data를 upload했을 때의 사이즈입니다.\n",
        "data_final.shape"
      ]
    },
    {
      "cell_type": "code",
      "execution_count": 32,
      "metadata": {
        "id": "QpRv8kHMw4i3"
      },
      "outputs": [],
      "source": [
        "# 변수들과 label로 활용할 것을 나누는 작업\n",
        "X = data_final.drop(['HeartDisease'], axis=1)\n",
        "y = data_final['HeartDisease']"
      ]
    },
    {
      "cell_type": "code",
      "execution_count": 33,
      "metadata": {
        "id": "jkzVBJY_xMII"
      },
      "outputs": [],
      "source": [
        "X_train, X_test, y_train, y_test = train_test_split(X, y, test_size=0.2)"
      ]
    },
    {
      "cell_type": "code",
      "execution_count": 34,
      "metadata": {
        "id": "3ka7hJztxO2Y",
        "colab": {
          "base_uri": "https://localhost:8080/"
        },
        "outputId": "f04614b8-4235-4d50-9b2f-6d180aa835a3"
      },
      "outputs": [
        {
          "output_type": "stream",
          "name": "stdout",
          "text": [
            "X_train's shape :  (561, 5)\n",
            "X_test's shape :  (141, 5)\n",
            "y_train's shape :  (561,)\n",
            "y_test's shape :  (141,)\n"
          ]
        }
      ],
      "source": [
        "# 아래 결과는 최초 data를 upload했을 때의 사이즈입니다.\n",
        "print(\"X_train's shape : \", X_train.shape)\n",
        "print(\"X_test's shape : \", X_test.shape)\n",
        "print(\"y_train's shape : \", y_train.shape)\n",
        "print(\"y_test's shape : \", y_test.shape)\n",
        "X_train.reset_index(drop=True, inplace=True)\n",
        "X_test.reset_index(drop=True, inplace=True)\n",
        "y_train.reset_index(drop=True, inplace=True)\n",
        "y_test.reset_index(drop=True, inplace=True)"
      ]
    },
    {
      "cell_type": "markdown",
      "metadata": {
        "id": "GWu1MXYR0uk0"
      },
      "source": [
        "### 문제 5-1, 5-2, 5-3\n",
        "\n",
        "* 주어진 class Knn을 완성하여 test accuracy가 **0.65 이상**이 나오도록 코드를 완성하세요.\n"
      ]
    },
    {
      "cell_type": "markdown",
      "metadata": {
        "id": "Wp7q6xjF_I60"
      },
      "source": [
        "### 문제 5-1\n",
        "* for문을 **한 번만 사용하여** 두 데이터 사이의 Euclidean Distance를 구하는 dist() 함수를 완성하세요.\n",
        "* 작성한 코드를 캡처하여 보고서에 업로드하세요.\n",
        "* 힌트) numpy 에 있는 함수를 사용하세요.\n"
      ]
    },
    {
      "cell_type": "markdown",
      "metadata": {
        "id": "iw7WUEsd4v6H"
      },
      "source": [
        "### 문제 5-2\n",
        "* predict() 함수의 빈 칸을 구현하세요.\n",
        "* 작성한 코드를 캡처하여 보고서에 업로드하세요.\n",
        "* 힌트) distance는 dictionary 입니다."
      ]
    },
    {
      "cell_type": "markdown",
      "metadata": {
        "id": "jaZBrR3I5h4Y"
      },
      "source": [
        "### 문제 5-3\n",
        "* vote() 함수의 빈 칸을 구현하세요.\n",
        "* 작성한 코드를 캡처하여 보고서에 업로드하세요."
      ]
    },
    {
      "cell_type": "code",
      "execution_count": 35,
      "metadata": {
        "id": "HERopBDHv24c"
      },
      "outputs": [],
      "source": [
        "import tqdm"
      ]
    },
    {
      "cell_type": "code",
      "execution_count": 63,
      "metadata": {
        "id": "mjEbwsJxvzxF"
      },
      "outputs": [],
      "source": [
        "class Knn():\n",
        "    \n",
        "    def __init__(self, n_neighbors): \n",
        "        \n",
        "        ## 생성자로 최근접 이웃수(n_neighbors)를 입력 받습니다.\n",
        "        self.k = n_neighbors    \n",
        "    \n",
        "        ## knn 은 lazy learning 입니다.\n",
        "    def fit(self,X,y):\n",
        "        self.X = X\n",
        "        self.y = y\n",
        "        \n",
        "    def predict(self, test) : \n",
        "        y_pred = []\n",
        "        for i in tqdm.tqdm(range(test.shape[0])):\n",
        "\n",
        "            ## distance는 dictionary\n",
        "            ## dist() 구현 => 문제 5-1\n",
        "            distance = self.dist(self.X, test.loc[i]) \n",
        "\n",
        "            ################  문제 5-2  ####################\n",
        "            # 소스코드를 입력하고 캡처 후 보고서에 업로드하세요.\n",
        "            # 코드 시작과 코드 끝 라인을 삭제하지 마세요.\n",
        "            ################ 코드 시작  #####################\n",
        "            \n",
        "                            # 코드 작성\n",
        "            import operator\n",
        "            labels = {}\n",
        "            labels__ = sorted(distance.items(), key=operator.itemgetter(1))\n",
        "            labels_ = dict(labels__)\n",
        "            for i in range(self.k):\n",
        "              labels[i] = (list(labels_.keys()))[i]\n",
        "              labels[i] = self.y[labels[i]]\n",
        "            ################ 코드 끝  #######################\n",
        "            ###############################################\n",
        "            \n",
        "\n",
        "            ## labels: k개의 label을 모은 리스트\n",
        "            ## selected: vote()를 통해 예측한 label 값\n",
        "            ## vote() 구현 => 문제 5-3\n",
        "            selected = self.vote(labels) \n",
        "   \n",
        "            y_pred.append(selected)\n",
        "            \n",
        "\n",
        "\n",
        "        return y_pred ## 모든 비교가 끝나면 예측된 값이 저장된 y_pred 리스트를 반환합니다.\n",
        "        \n",
        "\n",
        "    ## dist: 거리를 계산하는 함수 \n",
        "    def dist(self, X, y) :\n",
        "\n",
        "        num_train = X.shape[0]\n",
        "        dist_dict = {} ## {index : distance} 형태\n",
        "\n",
        "        \n",
        "        for i in range(num_train):\n",
        "        \n",
        "        ################  문제 5-1  ####################\n",
        "        # 소스코드를 입력하고 캡처 후 보고서에 업로드하세요.\n",
        "        # 코드 시작과 코드 끝 라인을 삭제하지 마세요.\n",
        "        ################ 코드 시작  #####################\n",
        "\n",
        "                        # 코드 작성\n",
        "          import math\n",
        "          dist = X_train.loc[i]- y\n",
        "          dist = dist*dist\n",
        "          distance = math.sqrt(dist.sum())\n",
        "\n",
        "          dist_dict[i] = distance\n",
        "        ################ 코드 끝  ######################\n",
        "        ##############################################\n",
        "\n",
        "        return dist_dict ## dictionary\n",
        "\n",
        "\n",
        "    ## vote: test 데이터의 label을 선택하는 함수\n",
        "    def vote(self, labels):\n",
        "      ## labels: k개의 label을 담고 있는 리스트\n",
        "      selected = 0\n",
        "\n",
        "      ################  문제 5-3  ####################\n",
        "      # 소스코드를 입력하고 캡처 후 보고서에 업로드하세요.\n",
        "      # 코드 시작과 코드 끝 라인을 삭제하지 마세요.\n",
        "      ################ 코드 시작  #####################\n",
        "\n",
        "                    # 코드 작성\n",
        "      zero = 0\n",
        "      one = 0\n",
        "      for i in range(self.k):\n",
        "          if labels[i] == 0:\n",
        "            zero = zero + 1\n",
        "          else:\n",
        "            one = one + 1\n",
        "      if zero > one:\n",
        "        selected = 0\n",
        "      else:\n",
        "        selected = 1\n",
        "\n",
        "\n",
        "      ################ 코드 끝  ######################\n",
        "      ##############################################\n",
        "\n",
        "      return selected"
      ]
    },
    {
      "cell_type": "code",
      "execution_count": 64,
      "metadata": {
        "id": "NmmLxpj7xYDE",
        "colab": {
          "base_uri": "https://localhost:8080/"
        },
        "outputId": "52d60319-5d71-4693-f874-4171f92e17d9"
      },
      "outputs": [
        {
          "output_type": "stream",
          "name": "stderr",
          "text": [
            "100%|██████████| 141/141 [00:37<00:00,  3.76it/s]\n"
          ]
        },
        {
          "output_type": "execute_result",
          "data": {
            "text/plain": [
              "0.6170212765957447"
            ]
          },
          "metadata": {},
          "execution_count": 64
        }
      ],
      "source": [
        "from sklearn.metrics import accuracy_score\n",
        "\n",
        "# 아래는 test accuracy를 계산하는 코드입니다.\n",
        "# 아래 코드를 실행시켜 그 결과를 캡처 후 보고서에 업로드하세요\n",
        "\n",
        "# 아래 숫자는 변경하셔도 상관 없습니다.\n",
        "classifier = Knn(3)\n",
        "classifier.fit(X_train, y_train)\n",
        "\n",
        "# test set에 대해 predict를 진행합니다.\n",
        "result = classifier.predict(X_test)\n",
        "\n",
        "# 실제 label과 예측한 label의 score를 계산합니다.\n",
        "accuracy_score(y_test, result)"
      ]
    },
    {
      "cell_type": "markdown",
      "metadata": {
        "id": "eT4QWs54ACwe"
      },
      "source": [
        "### 문제 5-4\n",
        "* 완성한 Knn을 사용하여 K 값에 따라 변화하는 train accuracy, test accuracy를 그래프로 그리세요.\n",
        "* 소스코드와 그래프를 **함께** 캡처하여 보고서에 업로드하세요."
      ]
    },
    {
      "cell_type": "code",
      "execution_count": 57,
      "metadata": {
        "id": "VJh94PKvAaZA",
        "colab": {
          "base_uri": "https://localhost:8080/",
          "height": 455
        },
        "outputId": "0583b228-e732-46c8-9810-64cdd837cba4"
      },
      "outputs": [
        {
          "output_type": "stream",
          "name": "stderr",
          "text": [
            "100%|██████████| 561/561 [02:33<00:00,  3.65it/s]\n",
            "100%|██████████| 141/141 [00:37<00:00,  3.74it/s]\n",
            " 45%|████▍     | 252/561 [01:09<01:25,  3.60it/s]\n"
          ]
        },
        {
          "output_type": "error",
          "ename": "KeyboardInterrupt",
          "evalue": "ignored",
          "traceback": [
            "\u001b[0;31m---------------------------------------------------------------------------\u001b[0m",
            "\u001b[0;31mKeyboardInterrupt\u001b[0m                         Traceback (most recent call last)",
            "\u001b[0;32m<ipython-input-57-26260f4f0ab7>\u001b[0m in \u001b[0;36m<module>\u001b[0;34m()\u001b[0m\n\u001b[1;32m     12\u001b[0m   \u001b[0mclassifier\u001b[0m \u001b[0;34m=\u001b[0m \u001b[0mKnn\u001b[0m\u001b[0;34m(\u001b[0m\u001b[0mi\u001b[0m\u001b[0;34m)\u001b[0m\u001b[0;34m\u001b[0m\u001b[0;34m\u001b[0m\u001b[0m\n\u001b[1;32m     13\u001b[0m   \u001b[0mclassifier\u001b[0m\u001b[0;34m.\u001b[0m\u001b[0mfit\u001b[0m\u001b[0;34m(\u001b[0m\u001b[0mX_train\u001b[0m\u001b[0;34m,\u001b[0m \u001b[0my_train\u001b[0m\u001b[0;34m)\u001b[0m\u001b[0;34m\u001b[0m\u001b[0;34m\u001b[0m\u001b[0m\n\u001b[0;32m---> 14\u001b[0;31m   \u001b[0mtrain_result\u001b[0m \u001b[0;34m=\u001b[0m \u001b[0mclassifier\u001b[0m\u001b[0;34m.\u001b[0m\u001b[0mpredict\u001b[0m\u001b[0;34m(\u001b[0m\u001b[0mX_train\u001b[0m\u001b[0;34m)\u001b[0m\u001b[0;34m\u001b[0m\u001b[0;34m\u001b[0m\u001b[0m\n\u001b[0m\u001b[1;32m     15\u001b[0m   \u001b[0mtest_result\u001b[0m \u001b[0;34m=\u001b[0m \u001b[0mclassifier\u001b[0m\u001b[0;34m.\u001b[0m\u001b[0mpredict\u001b[0m\u001b[0;34m(\u001b[0m\u001b[0mX_test\u001b[0m\u001b[0;34m)\u001b[0m\u001b[0;34m\u001b[0m\u001b[0;34m\u001b[0m\u001b[0m\n\u001b[1;32m     16\u001b[0m   \u001b[0mtrain_acc_\u001b[0m \u001b[0;34m=\u001b[0m \u001b[0maccuracy_score\u001b[0m\u001b[0;34m(\u001b[0m\u001b[0my_train\u001b[0m\u001b[0;34m,\u001b[0m \u001b[0mtrain_result\u001b[0m\u001b[0;34m)\u001b[0m\u001b[0;34m\u001b[0m\u001b[0;34m\u001b[0m\u001b[0m\n",
            "\u001b[0;32m<ipython-input-55-fa30447c242a>\u001b[0m in \u001b[0;36mpredict\u001b[0;34m(self, test)\u001b[0m\n\u001b[1;32m     19\u001b[0m             \u001b[0;31m## distance는 dictionary\u001b[0m\u001b[0;34m\u001b[0m\u001b[0;34m\u001b[0m\u001b[0;34m\u001b[0m\u001b[0m\n\u001b[1;32m     20\u001b[0m             \u001b[0;31m## dist() 구현 => 문제 5-1\u001b[0m\u001b[0;34m\u001b[0m\u001b[0;34m\u001b[0m\u001b[0;34m\u001b[0m\u001b[0m\n\u001b[0;32m---> 21\u001b[0;31m             \u001b[0mdistance\u001b[0m \u001b[0;34m=\u001b[0m \u001b[0mself\u001b[0m\u001b[0;34m.\u001b[0m\u001b[0mdist\u001b[0m\u001b[0;34m(\u001b[0m\u001b[0mself\u001b[0m\u001b[0;34m.\u001b[0m\u001b[0mX\u001b[0m\u001b[0;34m,\u001b[0m \u001b[0mtest\u001b[0m\u001b[0;34m.\u001b[0m\u001b[0mloc\u001b[0m\u001b[0;34m[\u001b[0m\u001b[0mi\u001b[0m\u001b[0;34m]\u001b[0m\u001b[0;34m)\u001b[0m\u001b[0;34m\u001b[0m\u001b[0;34m\u001b[0m\u001b[0m\n\u001b[0m\u001b[1;32m     22\u001b[0m \u001b[0;34m\u001b[0m\u001b[0m\n\u001b[1;32m     23\u001b[0m             \u001b[0;31m################  문제 5-2  ####################\u001b[0m\u001b[0;34m\u001b[0m\u001b[0;34m\u001b[0m\u001b[0;34m\u001b[0m\u001b[0m\n",
            "\u001b[0;32m<ipython-input-55-fa30447c242a>\u001b[0m in \u001b[0;36mdist\u001b[0;34m(self, X, y)\u001b[0m\n\u001b[1;32m     67\u001b[0m           \u001b[0;32mimport\u001b[0m \u001b[0mmath\u001b[0m\u001b[0;34m\u001b[0m\u001b[0;34m\u001b[0m\u001b[0m\n\u001b[1;32m     68\u001b[0m           \u001b[0mdist\u001b[0m \u001b[0;34m=\u001b[0m \u001b[0mX_train\u001b[0m\u001b[0;34m.\u001b[0m\u001b[0mloc\u001b[0m\u001b[0;34m[\u001b[0m\u001b[0mi\u001b[0m\u001b[0;34m]\u001b[0m\u001b[0;34m-\u001b[0m \u001b[0my\u001b[0m\u001b[0;34m\u001b[0m\u001b[0;34m\u001b[0m\u001b[0m\n\u001b[0;32m---> 69\u001b[0;31m           \u001b[0mdist\u001b[0m \u001b[0;34m=\u001b[0m \u001b[0mdist\u001b[0m\u001b[0;34m*\u001b[0m\u001b[0mdist\u001b[0m\u001b[0;34m\u001b[0m\u001b[0;34m\u001b[0m\u001b[0m\n\u001b[0m\u001b[1;32m     70\u001b[0m           \u001b[0mdistance\u001b[0m \u001b[0;34m=\u001b[0m \u001b[0mmath\u001b[0m\u001b[0;34m.\u001b[0m\u001b[0msqrt\u001b[0m\u001b[0;34m(\u001b[0m\u001b[0mdist\u001b[0m\u001b[0;34m.\u001b[0m\u001b[0msum\u001b[0m\u001b[0;34m(\u001b[0m\u001b[0;34m)\u001b[0m\u001b[0;34m)\u001b[0m\u001b[0;34m\u001b[0m\u001b[0;34m\u001b[0m\u001b[0m\n\u001b[1;32m     71\u001b[0m \u001b[0;34m\u001b[0m\u001b[0m\n",
            "\u001b[0;32m/usr/local/lib/python3.7/dist-packages/pandas/core/ops/common.py\u001b[0m in \u001b[0;36mnew_method\u001b[0;34m(self, other)\u001b[0m\n\u001b[1;32m     67\u001b[0m         \u001b[0mother\u001b[0m \u001b[0;34m=\u001b[0m \u001b[0mitem_from_zerodim\u001b[0m\u001b[0;34m(\u001b[0m\u001b[0mother\u001b[0m\u001b[0;34m)\u001b[0m\u001b[0;34m\u001b[0m\u001b[0;34m\u001b[0m\u001b[0m\n\u001b[1;32m     68\u001b[0m \u001b[0;34m\u001b[0m\u001b[0m\n\u001b[0;32m---> 69\u001b[0;31m         \u001b[0;32mreturn\u001b[0m \u001b[0mmethod\u001b[0m\u001b[0;34m(\u001b[0m\u001b[0mself\u001b[0m\u001b[0;34m,\u001b[0m \u001b[0mother\u001b[0m\u001b[0;34m)\u001b[0m\u001b[0;34m\u001b[0m\u001b[0;34m\u001b[0m\u001b[0m\n\u001b[0m\u001b[1;32m     70\u001b[0m \u001b[0;34m\u001b[0m\u001b[0m\n\u001b[1;32m     71\u001b[0m     \u001b[0;32mreturn\u001b[0m \u001b[0mnew_method\u001b[0m\u001b[0;34m\u001b[0m\u001b[0;34m\u001b[0m\u001b[0m\n",
            "\u001b[0;32m/usr/local/lib/python3.7/dist-packages/pandas/core/arraylike.py\u001b[0m in \u001b[0;36m__mul__\u001b[0;34m(self, other)\u001b[0m\n\u001b[1;32m    106\u001b[0m     \u001b[0;34m@\u001b[0m\u001b[0munpack_zerodim_and_defer\u001b[0m\u001b[0;34m(\u001b[0m\u001b[0;34m\"__mul__\"\u001b[0m\u001b[0;34m)\u001b[0m\u001b[0;34m\u001b[0m\u001b[0;34m\u001b[0m\u001b[0m\n\u001b[1;32m    107\u001b[0m     \u001b[0;32mdef\u001b[0m \u001b[0m__mul__\u001b[0m\u001b[0;34m(\u001b[0m\u001b[0mself\u001b[0m\u001b[0;34m,\u001b[0m \u001b[0mother\u001b[0m\u001b[0;34m)\u001b[0m\u001b[0;34m:\u001b[0m\u001b[0;34m\u001b[0m\u001b[0;34m\u001b[0m\u001b[0m\n\u001b[0;32m--> 108\u001b[0;31m         \u001b[0;32mreturn\u001b[0m \u001b[0mself\u001b[0m\u001b[0;34m.\u001b[0m\u001b[0m_arith_method\u001b[0m\u001b[0;34m(\u001b[0m\u001b[0mother\u001b[0m\u001b[0;34m,\u001b[0m \u001b[0moperator\u001b[0m\u001b[0;34m.\u001b[0m\u001b[0mmul\u001b[0m\u001b[0;34m)\u001b[0m\u001b[0;34m\u001b[0m\u001b[0;34m\u001b[0m\u001b[0m\n\u001b[0m\u001b[1;32m    109\u001b[0m \u001b[0;34m\u001b[0m\u001b[0m\n\u001b[1;32m    110\u001b[0m     \u001b[0;34m@\u001b[0m\u001b[0munpack_zerodim_and_defer\u001b[0m\u001b[0;34m(\u001b[0m\u001b[0;34m\"__rmul__\"\u001b[0m\u001b[0;34m)\u001b[0m\u001b[0;34m\u001b[0m\u001b[0;34m\u001b[0m\u001b[0m\n",
            "\u001b[0;32m/usr/local/lib/python3.7/dist-packages/pandas/core/series.py\u001b[0m in \u001b[0;36m_arith_method\u001b[0;34m(self, other, op)\u001b[0m\n\u001b[1;32m   5526\u001b[0m             \u001b[0mresult\u001b[0m \u001b[0;34m=\u001b[0m \u001b[0mops\u001b[0m\u001b[0;34m.\u001b[0m\u001b[0marithmetic_op\u001b[0m\u001b[0;34m(\u001b[0m\u001b[0mlvalues\u001b[0m\u001b[0;34m,\u001b[0m \u001b[0mrvalues\u001b[0m\u001b[0;34m,\u001b[0m \u001b[0mop\u001b[0m\u001b[0;34m)\u001b[0m\u001b[0;34m\u001b[0m\u001b[0;34m\u001b[0m\u001b[0m\n\u001b[1;32m   5527\u001b[0m \u001b[0;34m\u001b[0m\u001b[0m\n\u001b[0;32m-> 5528\u001b[0;31m         \u001b[0;32mreturn\u001b[0m \u001b[0mself\u001b[0m\u001b[0;34m.\u001b[0m\u001b[0m_construct_result\u001b[0m\u001b[0;34m(\u001b[0m\u001b[0mresult\u001b[0m\u001b[0;34m,\u001b[0m \u001b[0mname\u001b[0m\u001b[0;34m=\u001b[0m\u001b[0mres_name\u001b[0m\u001b[0;34m)\u001b[0m\u001b[0;34m\u001b[0m\u001b[0;34m\u001b[0m\u001b[0m\n\u001b[0m\u001b[1;32m   5529\u001b[0m \u001b[0;34m\u001b[0m\u001b[0m\n\u001b[1;32m   5530\u001b[0m \u001b[0;34m\u001b[0m\u001b[0m\n",
            "\u001b[0;32m/usr/local/lib/python3.7/dist-packages/pandas/core/series.py\u001b[0m in \u001b[0;36m_construct_result\u001b[0;34m(self, result, name)\u001b[0m\n\u001b[1;32m   2943\u001b[0m         \u001b[0;31m# We do not pass dtype to ensure that the Series constructor\u001b[0m\u001b[0;34m\u001b[0m\u001b[0;34m\u001b[0m\u001b[0;34m\u001b[0m\u001b[0m\n\u001b[1;32m   2944\u001b[0m         \u001b[0;31m#  does inference in the case where `result` has object-dtype.\u001b[0m\u001b[0;34m\u001b[0m\u001b[0;34m\u001b[0m\u001b[0;34m\u001b[0m\u001b[0m\n\u001b[0;32m-> 2945\u001b[0;31m         \u001b[0mout\u001b[0m \u001b[0;34m=\u001b[0m \u001b[0mself\u001b[0m\u001b[0;34m.\u001b[0m\u001b[0m_constructor\u001b[0m\u001b[0;34m(\u001b[0m\u001b[0mresult\u001b[0m\u001b[0;34m,\u001b[0m \u001b[0mindex\u001b[0m\u001b[0;34m=\u001b[0m\u001b[0mself\u001b[0m\u001b[0;34m.\u001b[0m\u001b[0mindex\u001b[0m\u001b[0;34m)\u001b[0m\u001b[0;34m\u001b[0m\u001b[0;34m\u001b[0m\u001b[0m\n\u001b[0m\u001b[1;32m   2946\u001b[0m         \u001b[0mout\u001b[0m \u001b[0;34m=\u001b[0m \u001b[0mout\u001b[0m\u001b[0;34m.\u001b[0m\u001b[0m__finalize__\u001b[0m\u001b[0;34m(\u001b[0m\u001b[0mself\u001b[0m\u001b[0;34m)\u001b[0m\u001b[0;34m\u001b[0m\u001b[0;34m\u001b[0m\u001b[0m\n\u001b[1;32m   2947\u001b[0m \u001b[0;34m\u001b[0m\u001b[0m\n",
            "\u001b[0;32m/usr/local/lib/python3.7/dist-packages/pandas/core/series.py\u001b[0m in \u001b[0;36m__init__\u001b[0;34m(self, data, index, dtype, name, copy, fastpath)\u001b[0m\n\u001b[1;32m    441\u001b[0m                 \u001b[0mmanager\u001b[0m \u001b[0;34m=\u001b[0m \u001b[0mget_option\u001b[0m\u001b[0;34m(\u001b[0m\u001b[0;34m\"mode.data_manager\"\u001b[0m\u001b[0;34m)\u001b[0m\u001b[0;34m\u001b[0m\u001b[0;34m\u001b[0m\u001b[0m\n\u001b[1;32m    442\u001b[0m                 \u001b[0;32mif\u001b[0m \u001b[0mmanager\u001b[0m \u001b[0;34m==\u001b[0m \u001b[0;34m\"block\"\u001b[0m\u001b[0;34m:\u001b[0m\u001b[0;34m\u001b[0m\u001b[0;34m\u001b[0m\u001b[0m\n\u001b[0;32m--> 443\u001b[0;31m                     \u001b[0mdata\u001b[0m \u001b[0;34m=\u001b[0m \u001b[0mSingleBlockManager\u001b[0m\u001b[0;34m.\u001b[0m\u001b[0mfrom_array\u001b[0m\u001b[0;34m(\u001b[0m\u001b[0mdata\u001b[0m\u001b[0;34m,\u001b[0m \u001b[0mindex\u001b[0m\u001b[0;34m)\u001b[0m\u001b[0;34m\u001b[0m\u001b[0;34m\u001b[0m\u001b[0m\n\u001b[0m\u001b[1;32m    444\u001b[0m                 \u001b[0;32melif\u001b[0m \u001b[0mmanager\u001b[0m \u001b[0;34m==\u001b[0m \u001b[0;34m\"array\"\u001b[0m\u001b[0;34m:\u001b[0m\u001b[0;34m\u001b[0m\u001b[0;34m\u001b[0m\u001b[0m\n\u001b[1;32m    445\u001b[0m                     \u001b[0mdata\u001b[0m \u001b[0;34m=\u001b[0m \u001b[0mSingleArrayManager\u001b[0m\u001b[0;34m.\u001b[0m\u001b[0mfrom_array\u001b[0m\u001b[0;34m(\u001b[0m\u001b[0mdata\u001b[0m\u001b[0;34m,\u001b[0m \u001b[0mindex\u001b[0m\u001b[0;34m)\u001b[0m\u001b[0;34m\u001b[0m\u001b[0;34m\u001b[0m\u001b[0m\n",
            "\u001b[0;32m/usr/local/lib/python3.7/dist-packages/pandas/core/internals/managers.py\u001b[0m in \u001b[0;36mfrom_array\u001b[0;34m(cls, array, index)\u001b[0m\n\u001b[1;32m   1572\u001b[0m         \u001b[0mConstructor\u001b[0m \u001b[0;32mfor\u001b[0m \u001b[0;32mif\u001b[0m \u001b[0mwe\u001b[0m \u001b[0mhave\u001b[0m \u001b[0man\u001b[0m \u001b[0marray\u001b[0m \u001b[0mthat\u001b[0m \u001b[0;32mis\u001b[0m \u001b[0;32mnot\u001b[0m \u001b[0myet\u001b[0m \u001b[0ma\u001b[0m \u001b[0mBlock\u001b[0m\u001b[0;34m.\u001b[0m\u001b[0;34m\u001b[0m\u001b[0;34m\u001b[0m\u001b[0m\n\u001b[1;32m   1573\u001b[0m         \"\"\"\n\u001b[0;32m-> 1574\u001b[0;31m         \u001b[0mblock\u001b[0m \u001b[0;34m=\u001b[0m \u001b[0mnew_block\u001b[0m\u001b[0;34m(\u001b[0m\u001b[0marray\u001b[0m\u001b[0;34m,\u001b[0m \u001b[0mplacement\u001b[0m\u001b[0;34m=\u001b[0m\u001b[0mslice\u001b[0m\u001b[0;34m(\u001b[0m\u001b[0;36m0\u001b[0m\u001b[0;34m,\u001b[0m \u001b[0mlen\u001b[0m\u001b[0;34m(\u001b[0m\u001b[0mindex\u001b[0m\u001b[0;34m)\u001b[0m\u001b[0;34m)\u001b[0m\u001b[0;34m,\u001b[0m \u001b[0mndim\u001b[0m\u001b[0;34m=\u001b[0m\u001b[0;36m1\u001b[0m\u001b[0;34m)\u001b[0m\u001b[0;34m\u001b[0m\u001b[0;34m\u001b[0m\u001b[0m\n\u001b[0m\u001b[1;32m   1575\u001b[0m         \u001b[0;32mreturn\u001b[0m \u001b[0mcls\u001b[0m\u001b[0;34m(\u001b[0m\u001b[0mblock\u001b[0m\u001b[0;34m,\u001b[0m \u001b[0mindex\u001b[0m\u001b[0;34m)\u001b[0m\u001b[0;34m\u001b[0m\u001b[0;34m\u001b[0m\u001b[0m\n\u001b[1;32m   1576\u001b[0m \u001b[0;34m\u001b[0m\u001b[0m\n",
            "\u001b[0;32m/usr/local/lib/python3.7/dist-packages/pandas/core/internals/blocks.py\u001b[0m in \u001b[0;36mnew_block\u001b[0;34m(values, placement, ndim, klass)\u001b[0m\n\u001b[1;32m   1941\u001b[0m \u001b[0;34m\u001b[0m\u001b[0m\n\u001b[1;32m   1942\u001b[0m     \u001b[0mvalues\u001b[0m \u001b[0;34m=\u001b[0m \u001b[0mmaybe_coerce_values\u001b[0m\u001b[0;34m(\u001b[0m\u001b[0mvalues\u001b[0m\u001b[0;34m)\u001b[0m\u001b[0;34m\u001b[0m\u001b[0;34m\u001b[0m\u001b[0m\n\u001b[0;32m-> 1943\u001b[0;31m     \u001b[0;32mreturn\u001b[0m \u001b[0mklass\u001b[0m\u001b[0;34m(\u001b[0m\u001b[0mvalues\u001b[0m\u001b[0;34m,\u001b[0m \u001b[0mndim\u001b[0m\u001b[0;34m=\u001b[0m\u001b[0mndim\u001b[0m\u001b[0;34m,\u001b[0m \u001b[0mplacement\u001b[0m\u001b[0;34m=\u001b[0m\u001b[0mplacement\u001b[0m\u001b[0;34m)\u001b[0m\u001b[0;34m\u001b[0m\u001b[0;34m\u001b[0m\u001b[0m\n\u001b[0m\u001b[1;32m   1944\u001b[0m \u001b[0;34m\u001b[0m\u001b[0m\n\u001b[1;32m   1945\u001b[0m \u001b[0;34m\u001b[0m\u001b[0m\n",
            "\u001b[0;31mKeyboardInterrupt\u001b[0m: "
          ]
        }
      ],
      "source": [
        "K = [1, 3, 5, 10, 50, 100, 500]\n",
        "train_acc = []\n",
        "test_acc = []\n",
        "\n",
        "################  문제 5-4  ####################\n",
        "# 소스코드를 입력하고 캡처 후 보고서에 업로드하세요.\n",
        "# 코드 시작과 코드 끝 라인을 삭제하지 마세요.\n",
        "################ 코드 시작  #####################\n",
        "\n",
        "# 소스코드를 입력하고 그래프와 함께 캡처 후 보고서에 업로드 하세요\n",
        "for i in K:\n",
        "  classifier = Knn(i)\n",
        "  classifier.fit(X_train, y_train)\n",
        "  train_result = classifier.predict(X_train)\n",
        "  test_result = classifier.predict(X_test)\n",
        "  train_acc_ = accuracy_score(y_train, train_result)\n",
        "  test_acc_ = accuracy_score(y_test, test_result)\n",
        "  train_acc.append(train_acc_)\n",
        "  test_acc.append(test_acc_)\n",
        "\n",
        "################ 코드 끝  ######################\n",
        "# x축을 K값, y축을 정확도로하여 K에 대한 train, test의 정확도에 대한 그래프 생성\n",
        "plt.figure()\n",
        "plt.plot(K, train_acc, label='train accuracy')\n",
        "plt.plot(K, test_acc, label='test accuracy')\n",
        "plt.xlabel('K')\n",
        "plt.ylabel('accuracy')"
      ]
    },
    {
      "cell_type": "markdown",
      "source": [
        ""
      ],
      "metadata": {
        "id": "2M1TjSwyXL-H"
      }
    },
    {
      "cell_type": "markdown",
      "metadata": {
        "id": "SEZAjUjRGQxk"
      },
      "source": [
        "### 문제 5-5\n",
        "* Knn classifer의 정확도를 0.75 이상으로 개선하는 방법에 대해 고민해보세요.\n",
        "* 패키지 사용 가능합니다.\n",
        "* 힌트) HeartDisease 데이터의 0과 1의 비율에 대해서 생각해보세요. \n",
        "* 아래 코드를 실행시켜 그 결과를 캡처 후 보고서에 업로드하세요."
      ]
    },
    {
      "cell_type": "code",
      "execution_count": 39,
      "metadata": {
        "id": "maykxF5GV7zd"
      },
      "outputs": [],
      "source": [
        "# 코드 개선"
      ]
    },
    {
      "cell_type": "code",
      "execution_count": 40,
      "metadata": {
        "id": "6x64OdjjGYWE",
        "colab": {
          "base_uri": "https://localhost:8080/"
        },
        "outputId": "5cdb2b65-79ff-4060-a20c-8ca0e7ccba2f"
      },
      "outputs": [
        {
          "output_type": "stream",
          "name": "stderr",
          "text": [
            "100%|██████████| 141/141 [00:38<00:00,  3.70it/s]\n"
          ]
        },
        {
          "output_type": "execute_result",
          "data": {
            "text/plain": [
              "0.6170212765957447"
            ]
          },
          "metadata": {},
          "execution_count": 40
        }
      ],
      "source": [
        "from sklearn.metrics import accuracy_score\n",
        "\n",
        "# 아래는 test accuracy를 계산하는 코드입니다.\n",
        "# 아래 코드를 실행시켜 그 결과를 캡처 후 보고서에 업로드하세요\n",
        "\n",
        "# 아래 숫자는 변경하셔도 상관 없습니다.\n",
        "classifier = Knn(3)\n",
        "classifier.fit(X_train, y_train)\n",
        "\n",
        "# test set에 대해 predict를 진행합니다.\n",
        "result = classifier.predict(X_test)\n",
        "\n",
        "# 실제 label과 예측한 label의 score를 계산합니다.\n",
        "accuracy_score(y_test, result)"
      ]
    }
  ],
  "metadata": {
    "colab": {
      "collapsed_sections": [],
      "name": "HW1_201920723_김동욱.ipynb",
      "provenance": [],
      "include_colab_link": true
    },
    "kernelspec": {
      "display_name": "Python 3",
      "name": "python3"
    },
    "language_info": {
      "name": "python"
    }
  },
  "nbformat": 4,
  "nbformat_minor": 0
}