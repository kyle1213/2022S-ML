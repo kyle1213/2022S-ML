{
  "cells": [
    {
      "cell_type": "markdown",
      "metadata": {
        "id": "view-in-github",
        "colab_type": "text"
      },
      "source": [
        "<a href=\"https://colab.research.google.com/github/kyle1213/2022S-ML/blob/main/HW3_201920723_%EA%B9%80%EB%8F%99%EC%9A%B1.ipynb\" target=\"_parent\"><img src=\"https://colab.research.google.com/assets/colab-badge.svg\" alt=\"Open In Colab\"/></a>"
      ]
    },
    {
      "cell_type": "markdown",
      "metadata": {
        "id": "m1rbIpJvJD_m"
      },
      "source": [
        "# **HW3 :: Parameter Tuning and Classifcation**"
      ]
    },
    {
      "cell_type": "markdown",
      "metadata": {
        "id": "6c34x6aJI_kE"
      },
      "source": [
        "## 코랩과 구글 드라이브 연동 OR 로컬에서 파일 업로드\n",
        "- 해당 섹션 코드 수정 가능"
      ]
    },
    {
      "cell_type": "code",
      "execution_count": 1,
      "metadata": {
        "id": "PLXjmIbsJMlk"
      },
      "outputs": [],
      "source": [
        "# 연동 OR 파일 업로드\n",
        "# 연동 시 path 설정 주의"
      ]
    },
    {
      "cell_type": "code",
      "execution_count": 2,
      "metadata": {
        "colab": {
          "base_uri": "https://localhost:8080/"
        },
        "id": "4VXRY6hDJ60i",
        "outputId": "4ebea21f-ddd4-4876-a63e-df235ccb467c"
      },
      "outputs": [
        {
          "output_type": "stream",
          "name": "stdout",
          "text": [
            "Mounted at /content/drive\n"
          ]
        }
      ],
      "source": [
        "from google.colab import drive\n",
        "drive.mount('/content/drive')"
      ]
    },
    {
      "cell_type": "markdown",
      "metadata": {
        "id": "HR6Kw9YhJV8A"
      },
      "source": [
        "## 데이터 불러오기"
      ]
    },
    {
      "cell_type": "code",
      "execution_count": 3,
      "metadata": {
        "id": "29BsCuUtKjKA"
      },
      "outputs": [],
      "source": [
        "import numpy as np\n",
        "import pandas as pd"
      ]
    },
    {
      "cell_type": "code",
      "execution_count": 4,
      "metadata": {
        "id": "KCR3D9shItY9"
      },
      "outputs": [],
      "source": [
        "path = './drive/MyDrive/Colab Notebooks/heart_clean.csv' # 제공된 csv 파일 사용\n",
        "df = pd.read_csv(path)"
      ]
    },
    {
      "cell_type": "code",
      "execution_count": 5,
      "metadata": {
        "colab": {
          "base_uri": "https://localhost:8080/",
          "height": 206
        },
        "id": "S9v7sEpoL0jf",
        "outputId": "3e604c19-93f3-4466-875c-16fb44385e34"
      },
      "outputs": [
        {
          "output_type": "execute_result",
          "data": {
            "text/plain": [
              "   Age  RestingBP  FastingBS  ExerciseAngina  Oldpeak  HeartDisease\n",
              "0   53        120          0               0      0.0             0\n",
              "1   65        134          0               1      1.1             1\n",
              "2   60        160          0               1      0.5             1\n",
              "3   57        150          1               0      0.2             0\n",
              "4   57        150          0               1      0.6             1"
            ],
            "text/html": [
              "\n",
              "  <div id=\"df-1cc4b67e-05db-4cd4-8b7c-dc69999f16f5\">\n",
              "    <div class=\"colab-df-container\">\n",
              "      <div>\n",
              "<style scoped>\n",
              "    .dataframe tbody tr th:only-of-type {\n",
              "        vertical-align: middle;\n",
              "    }\n",
              "\n",
              "    .dataframe tbody tr th {\n",
              "        vertical-align: top;\n",
              "    }\n",
              "\n",
              "    .dataframe thead th {\n",
              "        text-align: right;\n",
              "    }\n",
              "</style>\n",
              "<table border=\"1\" class=\"dataframe\">\n",
              "  <thead>\n",
              "    <tr style=\"text-align: right;\">\n",
              "      <th></th>\n",
              "      <th>Age</th>\n",
              "      <th>RestingBP</th>\n",
              "      <th>FastingBS</th>\n",
              "      <th>ExerciseAngina</th>\n",
              "      <th>Oldpeak</th>\n",
              "      <th>HeartDisease</th>\n",
              "    </tr>\n",
              "  </thead>\n",
              "  <tbody>\n",
              "    <tr>\n",
              "      <th>0</th>\n",
              "      <td>53</td>\n",
              "      <td>120</td>\n",
              "      <td>0</td>\n",
              "      <td>0</td>\n",
              "      <td>0.0</td>\n",
              "      <td>0</td>\n",
              "    </tr>\n",
              "    <tr>\n",
              "      <th>1</th>\n",
              "      <td>65</td>\n",
              "      <td>134</td>\n",
              "      <td>0</td>\n",
              "      <td>1</td>\n",
              "      <td>1.1</td>\n",
              "      <td>1</td>\n",
              "    </tr>\n",
              "    <tr>\n",
              "      <th>2</th>\n",
              "      <td>60</td>\n",
              "      <td>160</td>\n",
              "      <td>0</td>\n",
              "      <td>1</td>\n",
              "      <td>0.5</td>\n",
              "      <td>1</td>\n",
              "    </tr>\n",
              "    <tr>\n",
              "      <th>3</th>\n",
              "      <td>57</td>\n",
              "      <td>150</td>\n",
              "      <td>1</td>\n",
              "      <td>0</td>\n",
              "      <td>0.2</td>\n",
              "      <td>0</td>\n",
              "    </tr>\n",
              "    <tr>\n",
              "      <th>4</th>\n",
              "      <td>57</td>\n",
              "      <td>150</td>\n",
              "      <td>0</td>\n",
              "      <td>1</td>\n",
              "      <td>0.6</td>\n",
              "      <td>1</td>\n",
              "    </tr>\n",
              "  </tbody>\n",
              "</table>\n",
              "</div>\n",
              "      <button class=\"colab-df-convert\" onclick=\"convertToInteractive('df-1cc4b67e-05db-4cd4-8b7c-dc69999f16f5')\"\n",
              "              title=\"Convert this dataframe to an interactive table.\"\n",
              "              style=\"display:none;\">\n",
              "        \n",
              "  <svg xmlns=\"http://www.w3.org/2000/svg\" height=\"24px\"viewBox=\"0 0 24 24\"\n",
              "       width=\"24px\">\n",
              "    <path d=\"M0 0h24v24H0V0z\" fill=\"none\"/>\n",
              "    <path d=\"M18.56 5.44l.94 2.06.94-2.06 2.06-.94-2.06-.94-.94-2.06-.94 2.06-2.06.94zm-11 1L8.5 8.5l.94-2.06 2.06-.94-2.06-.94L8.5 2.5l-.94 2.06-2.06.94zm10 10l.94 2.06.94-2.06 2.06-.94-2.06-.94-.94-2.06-.94 2.06-2.06.94z\"/><path d=\"M17.41 7.96l-1.37-1.37c-.4-.4-.92-.59-1.43-.59-.52 0-1.04.2-1.43.59L10.3 9.45l-7.72 7.72c-.78.78-.78 2.05 0 2.83L4 21.41c.39.39.9.59 1.41.59.51 0 1.02-.2 1.41-.59l7.78-7.78 2.81-2.81c.8-.78.8-2.07 0-2.86zM5.41 20L4 18.59l7.72-7.72 1.47 1.35L5.41 20z\"/>\n",
              "  </svg>\n",
              "      </button>\n",
              "      \n",
              "  <style>\n",
              "    .colab-df-container {\n",
              "      display:flex;\n",
              "      flex-wrap:wrap;\n",
              "      gap: 12px;\n",
              "    }\n",
              "\n",
              "    .colab-df-convert {\n",
              "      background-color: #E8F0FE;\n",
              "      border: none;\n",
              "      border-radius: 50%;\n",
              "      cursor: pointer;\n",
              "      display: none;\n",
              "      fill: #1967D2;\n",
              "      height: 32px;\n",
              "      padding: 0 0 0 0;\n",
              "      width: 32px;\n",
              "    }\n",
              "\n",
              "    .colab-df-convert:hover {\n",
              "      background-color: #E2EBFA;\n",
              "      box-shadow: 0px 1px 2px rgba(60, 64, 67, 0.3), 0px 1px 3px 1px rgba(60, 64, 67, 0.15);\n",
              "      fill: #174EA6;\n",
              "    }\n",
              "\n",
              "    [theme=dark] .colab-df-convert {\n",
              "      background-color: #3B4455;\n",
              "      fill: #D2E3FC;\n",
              "    }\n",
              "\n",
              "    [theme=dark] .colab-df-convert:hover {\n",
              "      background-color: #434B5C;\n",
              "      box-shadow: 0px 1px 3px 1px rgba(0, 0, 0, 0.15);\n",
              "      filter: drop-shadow(0px 1px 2px rgba(0, 0, 0, 0.3));\n",
              "      fill: #FFFFFF;\n",
              "    }\n",
              "  </style>\n",
              "\n",
              "      <script>\n",
              "        const buttonEl =\n",
              "          document.querySelector('#df-1cc4b67e-05db-4cd4-8b7c-dc69999f16f5 button.colab-df-convert');\n",
              "        buttonEl.style.display =\n",
              "          google.colab.kernel.accessAllowed ? 'block' : 'none';\n",
              "\n",
              "        async function convertToInteractive(key) {\n",
              "          const element = document.querySelector('#df-1cc4b67e-05db-4cd4-8b7c-dc69999f16f5');\n",
              "          const dataTable =\n",
              "            await google.colab.kernel.invokeFunction('convertToInteractive',\n",
              "                                                     [key], {});\n",
              "          if (!dataTable) return;\n",
              "\n",
              "          const docLinkHtml = 'Like what you see? Visit the ' +\n",
              "            '<a target=\"_blank\" href=https://colab.research.google.com/notebooks/data_table.ipynb>data table notebook</a>'\n",
              "            + ' to learn more about interactive tables.';\n",
              "          element.innerHTML = '';\n",
              "          dataTable['output_type'] = 'display_data';\n",
              "          await google.colab.output.renderOutput(dataTable, element);\n",
              "          const docLink = document.createElement('div');\n",
              "          docLink.innerHTML = docLinkHtml;\n",
              "          element.appendChild(docLink);\n",
              "        }\n",
              "      </script>\n",
              "    </div>\n",
              "  </div>\n",
              "  "
            ]
          },
          "metadata": {},
          "execution_count": 5
        }
      ],
      "source": [
        "df.head()"
      ]
    },
    {
      "cell_type": "markdown",
      "metadata": {
        "id": "fZDTxR6wKuPO"
      },
      "source": [
        "## 데이터 나누기"
      ]
    },
    {
      "cell_type": "markdown",
      "metadata": {
        "id": "h5enxbYKbAhW"
      },
      "source": [
        "### **주의 사항**\n",
        "train_test_split에 random seed를 사용하여 split set을 고정한다.\n",
        "- 모든 문제에 같은 random seed를 부여할 필요는 없다.\n"
      ]
    },
    {
      "cell_type": "code",
      "execution_count": 6,
      "metadata": {
        "colab": {
          "base_uri": "https://localhost:8080/"
        },
        "id": "V1zQHUKdKWFz",
        "outputId": "2b1a7265-171b-4a52-c181-6e6d9d6c9b3c"
      },
      "outputs": [
        {
          "output_type": "stream",
          "name": "stdout",
          "text": [
            "X_train's shape :  (568, 5)\n",
            "y_train's shape :  (568,)\n",
            "\n",
            "X_val's shape :  (71, 5)\n",
            "y_val's shape :  (71,)\n",
            "\n",
            "X_test's shape :  (71, 5)\n",
            "y_test's shape :  (71,)\n"
          ]
        }
      ],
      "source": [
        "from sklearn.model_selection import train_test_split\n",
        "\n",
        "X = df.drop('HeartDisease', axis=1)\n",
        "y = df['HeartDisease']\n",
        "  \n",
        "X_train, X_test, y_train, y_test = train_test_split(X, y, test_size=0.1, random_state=1)\n",
        "X_train, X_val, y_train, y_val = train_test_split(X_train, y_train, test_size=1/9, random_state=1)\n",
        "\n",
        "print(\"X_train's shape : \", X_train.shape)\n",
        "print(\"y_train's shape : \", y_train.shape)\n",
        "print(\"\\nX_val's shape : \", X_val.shape)\n",
        "print(\"y_val's shape : \", y_val.shape)\n",
        "print(\"\\nX_test's shape : \", X_test.shape)\n",
        "print(\"y_test's shape : \", y_test.shape)"
      ]
    },
    {
      "cell_type": "markdown",
      "metadata": {
        "id": "wkJmRTz_jNTP"
      },
      "source": [
        "\n",
        "\n",
        "---\n",
        "\n"
      ]
    },
    {
      "cell_type": "markdown",
      "metadata": {
        "id": "P5Gr-LZOLCSP"
      },
      "source": [
        "## 문제1 KNN\n",
        "\n",
        "\n",
        "\n",
        "- Scikit-learn 라이브러리를 이용하여 KNN의 최적의 파라미터를 찾는다.\n",
        "    - 최근접 이웃을 찾기 위한 거리의 종류로 최소한 두 가지 이상의 거리 척도를 사용한다.\n",
        "    - K값을 최소 3개 이상 비교한다.\n",
        "    - 거리 척도, k값에 따라 train, validation 정확도를 한 그래프로 그린다.(x축 k값, y축 정확도)\n",
        "    - 찾은 최적의 파라미터와 test set 이용하여 test_accuracy 계산하고 기입한다.\n",
        "    - 최적의 파라미터를 찾은 것에 대한 설명을 '텍스트 셀'에 작성한다.\n",
        "\n"
      ]
    },
    {
      "cell_type": "code",
      "execution_count": 7,
      "metadata": {
        "colab": {
          "base_uri": "https://localhost:8080/",
          "height": 337
        },
        "id": "ME76ne9cdSMa",
        "outputId": "765d96d7-0db7-40d2-8df8-a3dea2985d08"
      },
      "outputs": [
        {
          "output_type": "stream",
          "name": "stdout",
          "text": [
            "[0.5492957746478874, 0.5352112676056338, 0.5633802816901409, 0.4788732394366197, 0.6056338028169014, 0.5211267605633803] 4\n",
            "test acc = \n",
            "0.647887323943662\n"
          ]
        },
        {
          "output_type": "display_data",
          "data": {
            "text/plain": [
              "<Figure size 432x288 with 1 Axes>"
            ],
            "image/png": "[encoded data removed]"
          },
          "metadata": {
            "needs_background": "light"
          }
        }
      ],
      "source": [
        "### 문제 1 ###\n",
        "## 코드 작성 ##\n",
        "import matplotlib.pyplot as plt\n",
        "from sklearn.neighbors import KNeighborsClassifier\n",
        "classifier1_1 = KNeighborsClassifier(n_neighbors=1, metric=\"manhattan\")         # #_1은 manhattan metric, #_2는 euclidean metric을 사용하고, 1_#은 k=1, 2_#은 k=5, 3_#은 k=11를 사용하였다\n",
        "classifier1_1.fit(X_train, y_train)\n",
        "\n",
        "classifier1_2 = KNeighborsClassifier(n_neighbors=1, metric=\"euclidean\")\n",
        "classifier1_2.fit(X_train, y_train)\n",
        "\n",
        "classifier2_1 = KNeighborsClassifier(n_neighbors=5, metric=\"manhattan\")\n",
        "classifier2_1.fit(X_train, y_train)\n",
        "\n",
        "classifier2_2 = KNeighborsClassifier(n_neighbors=5, metric=\"euclidean\")\n",
        "classifier2_2.fit(X_train, y_train)\n",
        "\n",
        "classifier3_1 = KNeighborsClassifier(n_neighbors=11, metric=\"manhattan\")\n",
        "classifier3_1.fit(X_train, y_train)\n",
        "\n",
        "classifier3_2 = KNeighborsClassifier(n_neighbors=11, metric=\"euclidean\")\n",
        "classifier3_2.fit(X_train, y_train)\n",
        "\n",
        "predict1_1_train = classifier1_1.score(X_train, y_train)\n",
        "predict1_2_train = classifier1_2.score(X_train, y_train)\n",
        "predict2_1_train = classifier2_1.score(X_train, y_train)\n",
        "predict2_2_train = classifier2_2.score(X_train, y_train)\n",
        "predict3_1_train = classifier3_1.score(X_train, y_train)\n",
        "predict3_2_train = classifier3_2.score(X_train, y_train)\n",
        "\n",
        "predict1_1 = classifier1_1.score(X_val, y_val)\n",
        "predict1_2 = classifier1_2.score(X_val, y_val)\n",
        "predict2_1 = classifier2_1.score(X_val, y_val)\n",
        "predict2_2 = classifier2_2.score(X_val, y_val)\n",
        "predict3_1 = classifier3_1.score(X_val, y_val)\n",
        "predict3_2 = classifier3_2.score(X_val, y_val)\n",
        "\n",
        "K = [1, 5, 11]\n",
        "predict_k_1_train = [predict1_1_train, predict2_1_train, predict3_1_train]\n",
        "predict_k_1 = [predict1_1, predict2_1, predict3_1]\n",
        "\n",
        "predict_k_2_train = [predict1_2_train, predict2_2_train, predict3_2_train]\n",
        "predict_k_2 = [predict1_2, predict2_2, predict3_2]\n",
        "\n",
        "plt.figure()\n",
        "plt.plot(K, predict_k_1_train, label='train accuracy_k_1', color='r')\n",
        "plt.plot(K, predict_k_1, label='val accuracy_k_1', color='g')\n",
        "plt.plot(K, predict_k_2_train, label='train accuracy_k_2', color='b')\n",
        "plt.plot(K, predict_k_2, label='val accuracy_k_2', color='y')\n",
        "plt.xlabel('K')\n",
        "plt.ylabel('accuracy')\n",
        "plt.legend()\n",
        "\n",
        "score_list = [predict1_1, predict1_2, predict2_1, predict2_2, predict3_1, predict3_2]\n",
        "score_list_name = ['classifier1_1', 'classifier1_2', 'classifier2_1', 'classifier2_2', 'classifier3_1', 'classifier3_2']\n",
        "i = score_list.index(max(score_list))\n",
        "print(score_list, score_list.index(max(score_list)))\n",
        "\n",
        "str = score_list_name[i] + '.score(X_test, y_test)'\n",
        "exec(\"a = \" + str)\n",
        "print(\"test acc = \")\n",
        "print(a)\n",
        "\n"
      ]
    },
    {
      "cell_type": "markdown",
      "metadata": {
        "id": "8-BMEqCFdfsR"
      },
      "source": [
        "**설명 작성**  \n",
        "- 최적의 파라미터: 현재 런타임 상으로는 k=11, metric=manhattan\n",
        "- 설명: k=1, 5, 11과 metric=manhatton, euuclidean마다 train과 val의 acc을 구하고 그 중 val의 acc이 가장 높은 값을 가지게 하는 파라미터로 test를 사용하였다\n",
        "이 글을 작성시의 런타임에서는 k=11, metric=manhattan 방식일 때 val의 acc가 약 60.5%로 가장 높았고 그때의 test acc는 0.6478..이 나왔다."
      ]
    },
    {
      "cell_type": "markdown",
      "metadata": {
        "id": "kHaSKoowjPp7"
      },
      "source": [
        "\n",
        "\n",
        "---\n",
        "\n"
      ]
    },
    {
      "cell_type": "markdown",
      "metadata": {
        "id": "VA0mzbsiaOoH"
      },
      "source": [
        "## 문제2 SVM\n",
        "\n",
        "\n",
        "- Scikit-learn 라이브러리를 이용하여 SVM의 최적의 파라미터를 찾는다.\n",
        "    - Kernel trick 중 최소 두개를 비교한다.\n",
        "    - 최적의 파라미터 C값을 찾는다.\n",
        "    - 파라미터에 따라 train, validation 정확도를 한 그래프로 그린다.(x축 C값, y축 정확도)\n",
        "    - 찾은 최적의 파라미터와 test set을 이용하여 test accuracy를 계산하고 기입한다.\n",
        "    - 최적의 파라미터를 찾은 것에 대한 설명을 '텍스트 셀'에 작성한다.\n"
      ]
    },
    {
      "cell_type": "code",
      "execution_count": 8,
      "metadata": {
        "id": "zZdkdlyMeH_Y",
        "colab": {
          "base_uri": "https://localhost:8080/",
          "height": 335
        },
        "outputId": "fb894818-53d4-49fa-9e5e-b1602504f076"
      },
      "outputs": [
        {
          "output_type": "stream",
          "name": "stdout",
          "text": [
            "[0.49295774647887325, 0.49295774647887325, 0.5070422535211268, 0.6056338028169014, 0.7605633802816901, 0.8309859154929577] 5\n",
            "test acc = \n",
            "0.7183098591549296\n"
          ]
        },
        {
          "output_type": "display_data",
          "data": {
            "text/plain": [
              "<Figure size 432x288 with 1 Axes>"
            ],
            "image/png": "[encoded data removed]"
          },
          "metadata": {
            "needs_background": "light"
          }
        }
      ],
      "source": [
        "### 문제 2 ###\n",
        "## 코드 작성 ##\n",
        "import matplotlib.pyplot as plt\n",
        "from sklearn import svm\n",
        "classifier1_1 = svm.SVC(kernel='rbf', C=0.01)        # #_1은 rbf, #_2는 poly를 사용하고, 1_#은 C=0.01(소프트마진), 2_#은 C=1, 3_#은 C=100(하드마진)를 사용하였다\n",
        "classifier1_1.fit(X_train, y_train)\n",
        "\n",
        "classifier1_2 = svm.SVC(kernel='poly', C=0.01) \n",
        "classifier1_2.fit(X_train, y_train)\n",
        "\n",
        "classifier2_1 = svm.SVC(kernel='rbf', C=1) \n",
        "classifier2_1.fit(X_train, y_train)\n",
        "\n",
        "classifier2_2 = svm.SVC(kernel='poly', C=1) \n",
        "classifier2_2.fit(X_train, y_train)\n",
        "\n",
        "classifier3_1 = svm.SVC(kernel='rbf', C=100) \n",
        "classifier3_1.fit(X_train, y_train)\n",
        "\n",
        "classifier3_2 = svm.SVC(kernel='poly', C=100) \n",
        "classifier3_2.fit(X_train, y_train)\n",
        "\n",
        "predict1_1_train = classifier1_1.score(X_train, y_train)\n",
        "predict1_2_train = classifier1_2.score(X_train, y_train)\n",
        "predict2_1_train = classifier2_1.score(X_train, y_train)\n",
        "predict2_2_train = classifier2_2.score(X_train, y_train)\n",
        "predict3_1_train = classifier3_1.score(X_train, y_train)\n",
        "predict3_2_train = classifier3_2.score(X_train, y_train)\n",
        "\n",
        "predict1_1 = classifier1_1.score(X_val, y_val)\n",
        "predict1_2 = classifier1_2.score(X_val, y_val)\n",
        "predict2_1 = classifier2_1.score(X_val, y_val)\n",
        "predict2_2 = classifier2_2.score(X_val, y_val)\n",
        "predict3_1 = classifier3_1.score(X_val, y_val)\n",
        "predict3_2 = classifier3_2.score(X_val, y_val)\n",
        "\n",
        "C = [0.01, 1, 100]\n",
        "predict_c_1_train = [predict1_1_train, predict2_1_train, predict3_1_train]\n",
        "predict_c_1 = [predict1_1, predict2_1, predict3_1]\n",
        "\n",
        "predict_c_2_train = [predict1_2_train, predict2_2_train, predict3_2_train]\n",
        "predict_c_2 = [predict1_2, predict2_2, predict3_2]\n",
        "\n",
        "plt.figure()\n",
        "plt.plot(C, predict_c_1_train, label='train accuracy_c_1', color='r')\n",
        "plt.plot(C, predict_c_1, label='val accuracy_c_1', color='g')\n",
        "plt.plot(C, predict_c_2_train, label='train accuracy_c_2', color='b')\n",
        "plt.plot(C, predict_c_2, label='val accuracy_c_2', color='y')\n",
        "plt.xlabel('C')\n",
        "plt.ylabel('accuracy')\n",
        "plt.legend()\n",
        "\n",
        "score_list = [predict1_1, predict1_2, predict2_1, predict2_2, predict3_1, predict3_2]\n",
        "score_list_name = ['classifier1_1', 'classifier1_2', 'classifier2_1', 'classifier2_2', 'classifier3_1', 'classifier3_2']\n",
        "i = score_list.index(max(score_list))\n",
        "print(score_list, score_list.index(max(score_list)))\n",
        "\n",
        "str = score_list_name[i] + '.score(X_test, y_test)'\n",
        "exec(\"a = \" + str)\n",
        "print(\"test acc = \")\n",
        "print(a)\n",
        "\n"
      ]
    },
    {
      "cell_type": "markdown",
      "metadata": {
        "id": "y47YT_IleHKq"
      },
      "source": [
        "**설명 작성**  \n",
        "- 최적의 파라미터:현재 런타임에서 C=1, kernel=linear\n",
        "- 설명:하이퍼 파라미터 C에 대한 값으로는 0.01, 1, 100 3가지 종류와, kernel의 종류로는 linear, poly 2가지 종류 총 6가지 모델에 대해서 train과 val에 대해 모델을 테스트 해봤으며, val의 acc가 약 83%로 가장 높게 나온 모델인 c=1, kernel=linear인 모델을 최종 모델로 선정하였다.이 모델의 test acc는 약 77.4%가 나왔다."
      ]
    },
    {
      "cell_type": "markdown",
      "metadata": {
        "id": "jFA8FPDKkjHC"
      },
      "source": [
        "\n",
        "\n",
        "---\n",
        "\n"
      ]
    },
    {
      "cell_type": "markdown",
      "metadata": {
        "id": "cl1b3f3AaZUw"
      },
      "source": [
        "## 문제3 Cross validation with Random Forest\n",
        "### 3-1: k-fold\n",
        "- 수업시간에 배운 **5-fold** 를 이용하여 최적의 파라미터를 찾는다. (데이터는 동일)\n",
        "- 수업시간에 배운 random forest 모델의 파라미터를 cross-validation을 바탕으로 최적화한다.\n",
        "    - **5-fold CV를 할 때, test data를 제외한 90%의 데이터를 사용해야한다.**\n",
        "    - 파라미터에 따라 K-fold CV를 통해 나온 평균 정확도와 각 fold의 정확도들을 한 그래프로 그린다.(x축 선택한 파라미터, y축 정확도)\n",
        "    - 찾은 최적의 파라미터와 test set을 이용하여 test accuracy를 계산하고 기입한다.\n",
        "    - 최적의 파라미터를 찾은 것에 대한 설명을 '텍스트 셀'에 작성한다.\n",
        "\n",
        "### 3-2: Leave One Out\n",
        "- 수업시간에 배운 Leave-One-Out 를 이용하여 최적의 파라미터를 찾는다. (데이터는 동일)\n",
        "- 수업시간에 배운 random forest 모델의 파라미터를 cross-validation을 바탕으로 최적화한다.\n",
        "  - **Leave-One-Out CV를 할 때, test data를 제외한 90%의 데이터를 사용해야한다.**\n",
        "  - 파라미터에 따라 Leave-One-Out CV를 통해 나온 평균 정확도를 그래프로 그린다.(x축 선택한 파라미터, y축 정확도)\n",
        "  - 찾은 최적의 파라미터와 test set을 이용하여 test accuracy를 계산하고 기입한다.\n",
        "  - 최적의 파라미터를 찾은 것에 대한 설명을 '텍스트 셀'에 작성한다."
      ]
    },
    {
      "cell_type": "code",
      "execution_count": 9,
      "metadata": {
        "id": "fYNny36efEF3",
        "colab": {
          "base_uri": "https://localhost:8080/",
          "height": 355
        },
        "outputId": "2264966d-107d-47db-ef08-25968155dc0f"
      },
      "outputs": [
        {
          "output_type": "stream",
          "name": "stdout",
          "text": [
            "[0.6728346456692913, 0.7667691929133859, 0.7589443897637795] 1\n",
            "test acc = \n",
            "0.676056338028169\n"
          ]
        },
        {
          "output_type": "execute_result",
          "data": {
            "text/plain": [
              "<matplotlib.legend.Legend at 0x7f54a45287d0>"
            ]
          },
          "metadata": {},
          "execution_count": 9
        },
        {
          "output_type": "display_data",
          "data": {
            "text/plain": [
              "<Figure size 432x288 with 1 Axes>"
            ],
            "image/png": "[encoded data removed]"
          },
          "metadata": {
            "needs_background": "light"
          }
        }
      ],
      "source": [
        "### 문제 3-1 ###\n",
        "## 코드 작성 ##\n",
        "from sklearn.ensemble import RandomForestClassifier\n",
        "from sklearn.model_selection import cross_val_score, KFold\n",
        "import numpy as np\n",
        "\n",
        "X_train = pd.concat([X_train, X_val])\n",
        "y_train = pd.concat([y_train, y_val]) #랜덤 포레스트의 하이퍼 파라미터로 n_estimator를 변화시켰으며, clf1은 1 estimator, clf2는 100 estimators, clf3는 1000 estimators이다\n",
        "\n",
        "clf1 = RandomForestClassifier(n_estimators=1)\n",
        "clf2 = RandomForestClassifier(n_estimators=100)\n",
        "clf3 = RandomForestClassifier(n_estimators=1000)\n",
        "\n",
        "clfs = [clf1, clf2, clf3]\n",
        "scores = []\n",
        "each_fold_scores = []\n",
        "for i in clfs:\n",
        "  each_fold_scores.append(cross_val_score(i, X_train, y_train, cv=KFold(5)))\n",
        "  a = np.mean(cross_val_score(i, X_train, y_train, cv=KFold(5)))\n",
        "  scores.append(a)\n",
        "\n",
        "i = scores.index(max(scores))\n",
        "print(scores, scores.index(max(scores)))\n",
        "score_list_name = ['clf1', 'clf2', 'clf3']\n",
        "\n",
        "str1 = score_list_name[i] + '.fit(X_train, y_train)'\n",
        "str2 = score_list_name[i] + '.score(X_test, y_test)'\n",
        "exec(str1)\n",
        "exec(\"a = \" + str2)\n",
        "print(\"test acc = \")\n",
        "print(a)\n",
        "\n",
        "n = [1, 100, 1000]\n",
        "plt.figure()\n",
        "plt.plot(n, scores, label='mean acc', color='r')\n",
        "plt.plot(n, [each_fold_scores[0][0], each_fold_scores[1][0], each_fold_scores[2][0]], label='fold acc', color='g')\n",
        "plt.plot(n, [each_fold_scores[0][1], each_fold_scores[1][1], each_fold_scores[2][1]], label='fold acc', color='g')\n",
        "plt.plot(n, [each_fold_scores[0][2], each_fold_scores[1][2], each_fold_scores[2][2]], label='fold acc', color='g')\n",
        "plt.plot(n, [each_fold_scores[0][3], each_fold_scores[1][3], each_fold_scores[2][3]], label='fold acc', color='g')\n",
        "plt.plot(n, [each_fold_scores[0][4], each_fold_scores[1][4], each_fold_scores[2][4]], label='fold acc', color='g')\n",
        "plt.xlabel('n_estimators')\n",
        "plt.ylabel('accuracy')\n",
        "plt.legend()\n",
        "\n",
        "\n"
      ]
    },
    {
      "cell_type": "markdown",
      "metadata": {
        "id": "2xvEdCHAfH0g"
      },
      "source": [
        "**설명 작성**  \n",
        "- test accuracy: 약 70.4%\n",
        "- 최적의 파라미터: estimators의 수가 1000\n",
        "- 설명: decision tree를 사용하는 random forest의 하이퍼 파라미터로 n_estimator 즉 트리의 수를 정하였는데, estimators의 수가 1, 100, 1000일 때의 값을 비교하였다. 이때 5 folds cv로 학습하고 각각의 val의 acc들의 평균이 가장 높은 estimators가 1000일 때의 모델을 최종 모델로 사용하였다. 이때 val의 평균 acc는 약 0.76가 나왔다.\n",
        "\n"
      ]
    },
    {
      "cell_type": "code",
      "execution_count": 10,
      "metadata": {
        "id": "80a5iRmvfG6H",
        "colab": {
          "base_uri": "https://localhost:8080/",
          "height": 356
        },
        "outputId": "d1182f8c-c2fb-4514-c877-47abebbdfd43"
      },
      "outputs": [
        {
          "output_type": "stream",
          "name": "stdout",
          "text": [
            "[0.6807511737089202, 0.7574334898278561, 0.755868544600939] 1\n",
            "test acc = \n",
            "0.6619718309859155\n"
          ]
        },
        {
          "output_type": "execute_result",
          "data": {
            "text/plain": [
              "<matplotlib.legend.Legend at 0x7f54a53e9bd0>"
            ]
          },
          "metadata": {},
          "execution_count": 10
        },
        {
          "output_type": "display_data",
          "data": {
            "text/plain": [
              "<Figure size 432x288 with 1 Axes>"
            ],
            "image/png": "[encoded data removed]"
          },
          "metadata": {
            "needs_background": "light"
          }
        }
      ],
      "source": [
        "### 문제 3-2 ###\n",
        "## 코드 작성 ##\n",
        "from sklearn.ensemble import RandomForestClassifier\n",
        "from sklearn.model_selection import cross_val_score, LeaveOneOut\n",
        "import numpy as np\n",
        "\n",
        "clf1 = RandomForestClassifier(n_estimators=1)\n",
        "clf2 = RandomForestClassifier(n_estimators=100)\n",
        "clf3 = RandomForestClassifier(n_estimators=1000)\n",
        "\n",
        "clfs = [clf1, clf2, clf3]\n",
        "scores = []\n",
        "\n",
        "for i in clfs:\n",
        "  a = np.mean(cross_val_score(i, X_train, y_train, cv=LeaveOneOut()))\n",
        "  scores.append(a)\n",
        "\n",
        "i = scores.index(max(scores))\n",
        "print(scores, scores.index(max(scores)))\n",
        "score_list_name = ['clf1', 'clf2', 'clf3']\n",
        "\n",
        "str1 = score_list_name[i] + '.fit(X_train, y_train)'\n",
        "str2 = score_list_name[i] + '.score(X_test, y_test)'\n",
        "exec(str1)\n",
        "exec(\"a = \" + str2)\n",
        "print(\"test acc = \")\n",
        "print(a)\n",
        "\n",
        "n = [1, 100, 1000]\n",
        "plt.figure()\n",
        "plt.plot(n, scores, label='RF', color='r')\n",
        "plt.xlabel('n_estimators')\n",
        "plt.ylabel('accuracy')\n",
        "plt.legend()\n",
        "\n",
        "\n"
      ]
    },
    {
      "cell_type": "markdown",
      "metadata": {
        "id": "m9BqByTFfLIG"
      },
      "source": [
        "**설명 작성**  \n",
        "- test accuracy:73.23\n",
        "- 최적의 파라미터:n_estimators=100\n",
        "- 설명: decision tree를 사용하는 random forest의 하이퍼 파라미터로 n_estimator 즉 트리의 수를 정하였는데, estimators의 수가 1, 100, 1000일 때의 값을 비교하였다. 이때 LOOCV로 학습하고 각각의 val의 acc들의 평균이 가장 높은 estimators가 100일 때의 모델을 최종 모델로 사용하였다. 이때 val의 평균 acc는 약 0.7574가 나왔다."
      ]
    },
    {
      "cell_type": "markdown",
      "metadata": {
        "id": "BlvQjbXJkllk"
      },
      "source": [
        "\n",
        "\n",
        "---\n",
        "\n"
      ]
    },
    {
      "cell_type": "markdown",
      "metadata": {
        "id": "szX5GgcXfnM1"
      },
      "source": [
        "## 문제4 Regression\n",
        "문제 4 에서는 캘리포니아 주택 가격 데이터셋을 사용합니다.   \n",
        "학습을 통해 주택 가격을 예측하는 문제입니다.  \n",
        "데이터에 대한 자세한 설명은 아래 코드의 description을 참고해주세요."
      ]
    },
    {
      "cell_type": "code",
      "execution_count": 11,
      "metadata": {
        "colab": {
          "base_uri": "https://localhost:8080/"
        },
        "id": "v7mbmrTRinak",
        "outputId": "ba8ed283-d956-4c55-93ce-510f4c1a753f"
      },
      "outputs": [
        {
          "output_type": "stream",
          "name": "stdout",
          "text": [
            ".. _california_housing_dataset:\n",
            "\n",
            "California Housing dataset\n",
            "--------------------------\n",
            "\n",
            "**Data Set Characteristics:**\n",
            "\n",
            "    :Number of Instances: 20640\n",
            "\n",
            "    :Number of Attributes: 8 numeric, predictive attributes and the target\n",
            "\n",
            "    :Attribute Information:\n",
            "        - MedInc        median income in block group\n",
            "        - HouseAge      median house age in block group\n",
            "        - AveRooms      average number of rooms per household\n",
            "        - AveBedrms     average number of bedrooms per household\n",
            "        - Population    block group population\n",
            "        - AveOccup      average number of household members\n",
            "        - Latitude      block group latitude\n",
            "        - Longitude     block group longitude\n",
            "\n",
            "    :Missing Attribute Values: None\n",
            "\n",
            "This dataset was obtained from the StatLib repository.\n",
            "https://www.dcc.fc.up.pt/~ltorgo/Regression/cal_housing.html\n",
            "\n",
            "The target variable is the median house value for California districts,\n",
            "expressed in hundreds of thousands of dollars ($100,000).\n",
            "\n",
            "This dataset was derived from the 1990 U.S. census, using one row per census\n",
            "block group. A block group is the smallest geographical unit for which the U.S.\n",
            "Census Bureau publishes sample data (a block group typically has a population\n",
            "of 600 to 3,000 people).\n",
            "\n",
            "An household is a group of people residing within a home. Since the average\n",
            "number of rooms and bedrooms in this dataset are provided per household, these\n",
            "columns may take surpinsingly large values for block groups with few households\n",
            "and many empty houses, such as vacation resorts.\n",
            "\n",
            "It can be downloaded/loaded using the\n",
            ":func:`sklearn.datasets.fetch_california_housing` function.\n",
            "\n",
            ".. topic:: References\n",
            "\n",
            "    - Pace, R. Kelley and Ronald Barry, Sparse Spatial Autoregressions,\n",
            "      Statistics and Probability Letters, 33 (1997) 291-297\n",
            "\n"
          ]
        }
      ],
      "source": [
        "from sklearn.datasets import fetch_california_housing\n",
        "housing = fetch_california_housing()\n",
        "print(housing.DESCR)"
      ]
    },
    {
      "cell_type": "code",
      "execution_count": 12,
      "metadata": {
        "id": "beqDbNzQi0PR"
      },
      "outputs": [],
      "source": [
        "df = pd.DataFrame(housing.data, columns=housing.feature_names)\n",
        "df['target'] = housing.target"
      ]
    },
    {
      "cell_type": "code",
      "execution_count": 13,
      "metadata": {
        "colab": {
          "base_uri": "https://localhost:8080/"
        },
        "id": "Y-4fgqWCkd-o",
        "outputId": "141f1177-2b20-4bf6-bd71-6dc09eba8cbb"
      },
      "outputs": [
        {
          "output_type": "stream",
          "name": "stdout",
          "text": [
            "   MedInc  HouseAge  AveRooms  AveBedrms  Population  AveOccup  Latitude  \\\n",
            "0  8.3252      41.0  6.984127   1.023810       322.0  2.555556     37.88   \n",
            "1  8.3014      21.0  6.238137   0.971880      2401.0  2.109842     37.86   \n",
            "2  7.2574      52.0  8.288136   1.073446       496.0  2.802260     37.85   \n",
            "3  5.6431      52.0  5.817352   1.073059       558.0  2.547945     37.85   \n",
            "4  3.8462      52.0  6.281853   1.081081       565.0  2.181467     37.85   \n",
            "\n",
            "   Longitude  target  \n",
            "0    -122.23   4.526  \n",
            "1    -122.22   3.585  \n",
            "2    -122.24   3.521  \n",
            "3    -122.25   3.413  \n",
            "4    -122.25   3.422  \n"
          ]
        }
      ],
      "source": [
        "print(df.head())"
      ]
    },
    {
      "cell_type": "code",
      "execution_count": 14,
      "metadata": {
        "colab": {
          "base_uri": "https://localhost:8080/"
        },
        "id": "zoUn3ZXdkimJ",
        "outputId": "7b21cd17-fe00-426c-ac9d-4f6da383d80c"
      },
      "outputs": [
        {
          "output_type": "stream",
          "name": "stdout",
          "text": [
            "(20640, 9)\n",
            "             MedInc      HouseAge      AveRooms     AveBedrms    Population  \\\n",
            "count  20640.000000  20640.000000  20640.000000  20640.000000  20640.000000   \n",
            "mean       3.870671     28.639486      5.429000      1.096675   1425.476744   \n",
            "std        1.899822     12.585558      2.474173      0.473911   1132.462122   \n",
            "min        0.499900      1.000000      0.846154      0.333333      3.000000   \n",
            "25%        2.563400     18.000000      4.440716      1.006079    787.000000   \n",
            "50%        3.534800     29.000000      5.229129      1.048780   1166.000000   \n",
            "75%        4.743250     37.000000      6.052381      1.099526   1725.000000   \n",
            "max       15.000100     52.000000    141.909091     34.066667  35682.000000   \n",
            "\n",
            "           AveOccup      Latitude     Longitude        target  \n",
            "count  20640.000000  20640.000000  20640.000000  20640.000000  \n",
            "mean       3.070655     35.631861   -119.569704      2.068558  \n",
            "std       10.386050      2.135952      2.003532      1.153956  \n",
            "min        0.692308     32.540000   -124.350000      0.149990  \n",
            "25%        2.429741     33.930000   -121.800000      1.196000  \n",
            "50%        2.818116     34.260000   -118.490000      1.797000  \n",
            "75%        3.282261     37.710000   -118.010000      2.647250  \n",
            "max     1243.333333     41.950000   -114.310000      5.000010  \n"
          ]
        }
      ],
      "source": [
        "print(df.shape) #(20640, 9)\n",
        "print(df.describe())"
      ]
    },
    {
      "cell_type": "markdown",
      "metadata": {
        "id": "G3_Z_2mO7WkB"
      },
      "source": [
        "### 문제 4-1 : Pearson Correlation\n",
        "- seaborn 패키지를 사용하여 pearson correlation heatmap을 그린다.\n",
        "- heatmap을 확인한 후 각 feature들 간 어떠한 관계가 있는지 아래의 텍스트 셀에 서술한다.    \n",
        "- target과 연관성이 높은 feature의 column들을 아래의 텍스트 셀에 기술한다.\n",
        "- 기술한 columns들과 target column을 포함하여 DataFrame을 만들고 **이후 모든 문제에서는 이 DataFrame을 사용한다**."
      ]
    },
    {
      "cell_type": "code",
      "execution_count": 15,
      "metadata": {
        "id": "3YiBgTBYFlOs",
        "colab": {
          "base_uri": "https://localhost:8080/",
          "height": 603
        },
        "outputId": "67b66dcd-ef0c-489a-bccb-076e642c21ea"
      },
      "outputs": [
        {
          "output_type": "execute_result",
          "data": {
            "text/plain": [
              "<matplotlib.axes._subplots.AxesSubplot at 0x7f54a3116210>"
            ]
          },
          "metadata": {},
          "execution_count": 15
        },
        {
          "output_type": "display_data",
          "data": {
            "text/plain": [
              "<Figure size 792x648 with 2 Axes>"
            ],
            "image/png": "[encoded data removed]"
          },
          "metadata": {
            "needs_background": "light"
          }
        }
      ],
      "source": [
        "### 문제 4-1 ###\n",
        "# correlation map 작성 후 plot\n",
        "import matplotlib.pyplot as plt\n",
        "import seaborn as sns\n",
        "# correlation matrix 계산하기\n",
        "corr = df.corr()\n",
        "\n",
        "# 위 삼각형에대한 마스크 생성하기\n",
        "mask = np.triu(np.ones_like(corr, dtype=bool))\n",
        "\n",
        "# matplotlib figure 설정하기\n",
        "f, ax = plt.subplots(figsize=(11, 9))\n",
        "\n",
        "# colormap 설정하기\n",
        "cmap = sns.diverging_palette(230, 20, as_cmap=True)\n",
        "\n",
        "# heatmap 그리기\n",
        "sns.heatmap(corr, mask=mask, cmap=cmap, vmax=.3, center=0,\n",
        "            square=True, linewidths=.5, cbar_kws={\"shrink\": .5})\n"
      ]
    },
    {
      "cell_type": "code",
      "source": [
        "print(corr)"
      ],
      "metadata": {
        "id": "t8IMurP3TsAn",
        "colab": {
          "base_uri": "https://localhost:8080/"
        },
        "outputId": "f8889347-b18b-4687-e79b-b36f14896a28"
      },
      "execution_count": 16,
      "outputs": [
        {
          "output_type": "stream",
          "name": "stdout",
          "text": [
            "              MedInc  HouseAge  AveRooms  AveBedrms  Population  AveOccup  \\\n",
            "MedInc      1.000000 -0.119034  0.326895  -0.062040    0.004834  0.018766   \n",
            "HouseAge   -0.119034  1.000000 -0.153277  -0.077747   -0.296244  0.013191   \n",
            "AveRooms    0.326895 -0.153277  1.000000   0.847621   -0.072213 -0.004852   \n",
            "AveBedrms  -0.062040 -0.077747  0.847621   1.000000   -0.066197 -0.006181   \n",
            "Population  0.004834 -0.296244 -0.072213  -0.066197    1.000000  0.069863   \n",
            "AveOccup    0.018766  0.013191 -0.004852  -0.006181    0.069863  1.000000   \n",
            "Latitude   -0.079809  0.011173  0.106389   0.069721   -0.108785  0.002366   \n",
            "Longitude  -0.015176 -0.108197 -0.027540   0.013344    0.099773  0.002476   \n",
            "target      0.688075  0.105623  0.151948  -0.046701   -0.024650 -0.023737   \n",
            "\n",
            "            Latitude  Longitude    target  \n",
            "MedInc     -0.079809  -0.015176  0.688075  \n",
            "HouseAge    0.011173  -0.108197  0.105623  \n",
            "AveRooms    0.106389  -0.027540  0.151948  \n",
            "AveBedrms   0.069721   0.013344 -0.046701  \n",
            "Population -0.108785   0.099773 -0.024650  \n",
            "AveOccup    0.002366   0.002476 -0.023737  \n",
            "Latitude    1.000000  -0.924664 -0.144160  \n",
            "Longitude  -0.924664   1.000000 -0.045967  \n",
            "target     -0.144160  -0.045967  1.000000  \n"
          ]
        }
      ]
    },
    {
      "cell_type": "markdown",
      "metadata": {
        "id": "onkXpOqZ_Aal"
      },
      "source": [
        "- **Feature들 간 관계 서술**  \n",
        "  답: target과 MedInc의 correlation heat map의 값이 가장 크게(붉게)나오며 두 feature의 상관관계가 가장 높음을 알 수 있다. 그다음으로 Ave Rooms, HouseAge가 순서대로 높은 양의 상관관계를 나타내며 Latitude가 음의 상관관계중 가장 높은 값을 나타내고 있다. 그 외의 AveBedrms, Population, AveOccup, Longtitude는 흰색 또는 푸른 히트맵이 나오며 낮은 상관관계를 보여주고 있다. 따라서 모델 데이터를 학습할 때 상관관계가 0이상으로 높은 MedInc, HouseAge, AveRooms, Latitude를 사용할 것이다.\n",
        "\n",
        "- **최종 선택한 feature들**  \n",
        "  답: MedInc, HouseAge, AveRooms, Latitude"
      ]
    },
    {
      "cell_type": "code",
      "execution_count": 17,
      "metadata": {
        "id": "GDXuxL65j7Gy"
      },
      "outputs": [],
      "source": [
        "### 문제 4-1 ###\n",
        "# 새 dataframe 만들기 \n",
        "X = df[['MedInc', 'HouseAge', 'AveRooms', 'Latitude']]\n",
        "y = df[['target']]"
      ]
    },
    {
      "cell_type": "markdown",
      "metadata": {
        "id": "uMo7ufW3_TXX"
      },
      "source": [
        "### 문제 4-2: MSE, r2 score\n",
        "- Scikit-learn 라이브러리의 LinearRegression 모델을 사용한다.\n",
        "- train data는 test data를 제외한 **90%의 데이터를 사용**해야한다.\n",
        "- **Mean Square Error(MSE)**와 **r2 score**를 사용하여 train set에 대한 prediction 결과와 test set에 대한 prediction 결과를 구해 print 한다.\n",
        "- Prediction 결과를 바탕으로 학습한 LinearRegression 모델의 overfit, underfit 여부와 판단 근거를 텍스트 셀에 서술한다."
      ]
    },
    {
      "cell_type": "code",
      "execution_count": 18,
      "metadata": {
        "id": "UgKvcwQXCLhx",
        "colab": {
          "base_uri": "https://localhost:8080/"
        },
        "outputId": "62dea9ec-958a-4388-c870-21079f2a719c"
      },
      "outputs": [
        {
          "output_type": "stream",
          "name": "stdout",
          "text": [
            "prediction of train // mse: 0.6403465449479042      r2: 0.5185239334541004 \n",
            "\n",
            "prediction of test  // mse: 0.6420644416218261     r2 0.5225346583445658\n"
          ]
        }
      ],
      "source": [
        "### 문제 4-2 ###\n",
        "## 코드 작성 ##\n",
        "from sklearn.linear_model import LinearRegression\n",
        "from sklearn.metrics import mean_squared_error as mse\n",
        "from sklearn.metrics import r2_score as r2\n",
        "from sklearn.preprocessing import StandardScaler\n",
        "\n",
        "# 표준화\n",
        "scaler = StandardScaler() \n",
        "scaler.fit(X)\n",
        "reg_X = scaler.transform(X)\n",
        "\n",
        "X = pd.DataFrame(data=reg_X, columns=X.columns)\n",
        "\n",
        "X_train, X_test, y_train, y_test = train_test_split(X, y, test_size=0.1, random_state=1)\n",
        "clf = LinearRegression()\n",
        "clf.fit(X_train, y_train)\n",
        "\n",
        "predict_train = clf.predict(X_train)\n",
        "score_mse_train = mse(y_train, predict_train)\n",
        "score_r2_train = r2(y_train, predict_train)\n",
        "\n",
        "predict_test = clf.predict(X_test)\n",
        "score_mse_test = mse(y_test, predict_test)\n",
        "score_r2_test = r2(y_test, predict_test)\n",
        "print(\"prediction of train // mse:\", score_mse_train, \"     r2:\", score_r2_train, \"\\n\")\n",
        "print(\"prediction of test  // mse:\", score_mse_test, \"    r2\", score_r2_test)"
      ]
    },
    {
      "cell_type": "markdown",
      "metadata": {
        "id": "rcgD51UhEKOE"
      },
      "source": [
        "**Prediction 결과를 바탕으로 학습한 LinearRegression 모델의 overfit, underfit 여부와 판단 근거를 서술**   \n",
        "답: target값이 0.14999~5.0이 나오며 평균이 2정도 되는 점에서 mse가 0.64정도 나오면 수치적으로 그닥 좋지도 나쁘지도 않은 보통의 성능을 내는것 같다. 또한 r2가 1에 가까우면 실제 추측값에 비슷하니까 잘하는 중, r2가 0에 가까우면 평균만큼 추측(찍는거)이니까 별로, r2가 음수면 아예틀리는 모델인데 0.52가 나온다는 것은 좋지도 나쁘지도 않은 보통의 성능을 내고있는 것 같다.(moderate하다)"
      ]
    },
    {
      "cell_type": "markdown",
      "metadata": {
        "id": "0OGUhsrgEwR_"
      },
      "source": [
        "### 문제 4-3: Regularized Model\n",
        "- Scikit-learn 라이브러리를 사용하여 Ridge Regression과 Lasso Regression 모델을 만든다.\n",
        "- train : validation : test **데이터셋의 비율을 8:1:1**로 설정한다.\n",
        "- 다양한 alpha 값에 대해 validation dataset을 사용하여 각 모델에 대한 **최적의 alpha 값을 찾고 찾은 최적의 alpha 값을 텍스트 셀에 작성**한다.\n",
        "- alpha 값은 아래의 리스트를 사용한다.  \n",
        "```alpha = [0.0001, 0.001,0.01,0.1,10]```\n",
        "- alpha 값에 대한 R2 score의 변화를 그래프로 나타낸다.\n",
        "  * **x축: alpha 값**\n",
        "  * **y축: R2 score 값**\n",
        "  * 파란색 선: Ridge 결과, 빨간색 선: Lasso 결과\n",
        "  * 그래프에 **legend**가 포함되어 있어야 한다. \n",
        "- **train과 validation dataset을 합하여 train set을 만든 후 최종 학습 결과를 도출**한다.\n",
        "  * 최적의 alpha 값을 찾을 때 사용한 test set은 변하지 않는다. \n",
        "  * r2 score를 사용하여 train set에 대한 prediction 결과와 test set에 대한 prediction 결과를 구해 print 한다."
      ]
    },
    {
      "cell_type": "code",
      "execution_count": 19,
      "metadata": {
        "id": "5XHRyFjsZyJ5",
        "colab": {
          "base_uri": "https://localhost:8080/"
        },
        "outputId": "7893f36d-34b7-468d-d5d7-6beed840767f"
      },
      "outputs": [
        {
          "output_type": "stream",
          "name": "stdout",
          "text": [
            "[0.512676539396814, 0.5126765361628222, 0.512676503822753, 0.5126761804070987, 0.5126729447545006, 0.5126729447545006] 0\n",
            "[0.5126739070721251, 0.5126487870692233, 0.5121536577201957, 0.49020109931929834, -0.002075732173829614, -0.002075732173829614] 0\n"
          ]
        }
      ],
      "source": [
        "### 문제 4-3 ###\n",
        "## 코드 작성 ##\n",
        "from sklearn.linear_model import Ridge, Lasso\n",
        "alpha = [0.0001, 0.001,0.01,0.1, 1, 10]\n",
        "X_train_, X_val, y_train_, y_val = train_test_split(X_train, y_train, test_size=1/9, random_state=1)\n",
        "\n",
        "rdg1 = Ridge(alpha = alpha[0])\n",
        "rdg2 = Ridge(alpha = alpha[1])\n",
        "rdg3 = Ridge(alpha = alpha[2])\n",
        "rdg4 = Ridge(alpha = alpha[3])\n",
        "rdg5 = Ridge(alpha = alpha[4])\n",
        "rdg6 = Ridge(alpha = alpha[5])\n",
        "\n",
        "lasso1 = Lasso(alpha=alpha[0])\n",
        "lasso2 = Lasso(alpha=alpha[1])\n",
        "lasso3 = Lasso(alpha=alpha[2])\n",
        "lasso4 = Lasso(alpha=alpha[3])\n",
        "lasso5 = Lasso(alpha=alpha[4])\n",
        "lasso6 = Lasso(alpha=alpha[5])\n",
        "\n",
        "rdg1.fit(X_train_, y_train_)\n",
        "rdg2.fit(X_train_, y_train_)\n",
        "rdg3.fit(X_train_, y_train_)\n",
        "rdg4.fit(X_train_, y_train_)\n",
        "rdg5.fit(X_train_, y_train_)\n",
        "rdg6.fit(X_train_, y_train_)\n",
        "\n",
        "lasso1.fit(X_train_, y_train_)\n",
        "lasso2.fit(X_train_, y_train_)\n",
        "lasso3.fit(X_train_, y_train_)\n",
        "lasso4.fit(X_train_, y_train_)\n",
        "lasso5.fit(X_train_, y_train_)\n",
        "lasso6.fit(X_train_, y_train_)\n",
        "\n",
        "rdg1_pred = rdg1.predict(X_val)\n",
        "rdg2_pred = rdg2.predict(X_val)\n",
        "rdg3_pred = rdg3.predict(X_val)\n",
        "rdg4_pred = rdg4.predict(X_val)\n",
        "rdg5_pred = rdg5.predict(X_val)\n",
        "rdg6_pred = rdg5.predict(X_val)\n",
        "\n",
        "lasso1_pred = lasso1.predict(X_val)\n",
        "lasso2_pred = lasso2.predict(X_val)\n",
        "lasso3_pred = lasso3.predict(X_val)\n",
        "lasso4_pred = lasso4.predict(X_val)\n",
        "lasso5_pred = lasso5.predict(X_val)\n",
        "lasso6_pred = lasso5.predict(X_val)\n",
        "\n",
        "rdg_scores = [r2(y_val, rdg1_pred), r2(y_val, rdg2_pred), r2(y_val, rdg3_pred), r2(y_val, rdg4_pred), r2(y_val, rdg5_pred), r2(y_val, rdg6_pred)]\n",
        "lasso_scores = [r2(y_val, lasso1_pred), r2(y_val, lasso2_pred), r2(y_val, lasso3_pred), r2(y_val, lasso4_pred), r2(y_val, lasso5_pred), r2(y_val, lasso6_pred)]\n",
        "\n",
        "i = rdg_scores.index(max(rdg_scores))\n",
        "j = lasso_scores.index(max(lasso_scores))\n",
        "\n",
        "print(rdg_scores, rdg_scores.index(max(rdg_scores)))\n",
        "a = rdg_scores.index(max(rdg_scores))\n",
        "print(lasso_scores, lasso_scores.index(max(lasso_scores)))\n",
        "b = lasso_scores.index(max(lasso_scores))\n",
        "rdg_list_name = ['rdg1', 'rdg2', 'rdg3', 'rdg4', 'rdg5']\n",
        "lasso_list_name = ['lasso1', 'lasso2', 'lasso3', 'lasso4', 'lasso5']\n",
        "\n",
        "\n"
      ]
    },
    {
      "cell_type": "code",
      "execution_count": 20,
      "metadata": {
        "id": "2ZJbj9r2Z4LP",
        "colab": {
          "base_uri": "https://localhost:8080/",
          "height": 298
        },
        "outputId": "645563f4-adc1-41f4-ef4f-b27151c91b0a"
      },
      "outputs": [
        {
          "output_type": "execute_result",
          "data": {
            "text/plain": [
              "<matplotlib.legend.Legend at 0x7f549e608d10>"
            ]
          },
          "metadata": {},
          "execution_count": 20
        },
        {
          "output_type": "display_data",
          "data": {
            "text/plain": [
              "<Figure size 432x288 with 1 Axes>"
            ],
            "image/png": "[encoded data removed]"
          },
          "metadata": {
            "needs_background": "light"
          }
        }
      ],
      "source": [
        "### 문제 4-3 ###\n",
        "## 그래프 작성 ##\n",
        "plt.figure()\n",
        "plt.plot(alpha, rdg_scores, label='rdg_r2', color='b')\n",
        "plt.plot(alpha, lasso_scores, label='lasso_r2', color='r')\n",
        "plt.xlabel('alpha')\n",
        "plt.ylabel('accuracy')\n",
        "plt.legend()"
      ]
    },
    {
      "cell_type": "markdown",
      "metadata": {
        "id": "DS8x1JmkZ6Yl"
      },
      "source": [
        "- Rridge regression 모델 최적의 alpha 값: 0.0001\n",
        "- Lasso regression 모델 최적의 alpha 값: 0.0001"
      ]
    },
    {
      "cell_type": "code",
      "execution_count": 21,
      "metadata": {
        "id": "zio0ZtfdiXCF",
        "colab": {
          "base_uri": "https://localhost:8080/"
        },
        "outputId": "f93bba3f-6fdc-411d-972a-c1a2a1b4cc92"
      },
      "outputs": [
        {
          "output_type": "stream",
          "name": "stdout",
          "text": [
            "rdg_train_r2score= 0.5185239334541004    lasso_train_r2score 0.5185239001022891 \n",
            "\n",
            "rdg_test_r2score= 0.5225346583557973    lasso_test_r2score 0.5225297501719427 \n",
            "\n"
          ]
        }
      ],
      "source": [
        "### 문제 4-3 ###\n",
        "# 최종 결과 출력\n",
        "rdg = Ridge(alpha = alpha[a])\n",
        "lasso = Lasso(alpha = alpha[b])\n",
        "\n",
        "rdg.fit(X_train, y_train)\n",
        "lasso.fit(X_train, y_train)\n",
        "\n",
        "rdg_train_r2score = r2(y_train, rdg.predict(X_train))\n",
        "lasso_train_r2score = r2(y_train, lasso.predict(X_train))\n",
        "rdg_test_r2score = r2(y_test, rdg.predict(X_test))\n",
        "lasso_test_r2score = r2(y_test, lasso.predict(X_test))\n",
        "\n",
        "\n",
        "\n",
        "print(\"rdg_train_r2score=\", rdg_train_r2score, \"   lasso_train_r2score\", lasso_train_r2score, \"\\n\")\n",
        "print(\"rdg_test_r2score=\", rdg_test_r2score, \"   lasso_test_r2score\", lasso_test_r2score, \"\\n\")\n",
        "\n",
        "\n"
      ]
    }
  ],
  "metadata": {
    "colab": {
      "collapsed_sections": [],
      "name": "HW3_201920723_김동욱.ipynb",
      "provenance": [],
      "include_colab_link": true
    },
    "kernelspec": {
      "display_name": "Python 3",
      "name": "python3"
    },
    "language_info": {
      "name": "python"
    }
  },
  "nbformat": 4,
  "nbformat_minor": 0
}